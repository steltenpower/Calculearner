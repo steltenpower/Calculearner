{
  "metadata": {
    "kernelspec": {
      "name": "python",
      "display_name": "Python (Pyodide)",
      "language": "python"
    },
    "language_info": {
      "codemirror_mode": {
        "name": "python",
        "version": 3
      },
      "file_extension": ".py",
      "mimetype": "text/x-python",
      "name": "python",
      "nbconvert_exporter": "python",
      "pygments_lexer": "ipython3",
      "version": "3.8"
    }
  },
  "nbformat_minor": 4,
  "nbformat": 4,
  "cells": [
    {
      "cell_type": "markdown",
      "source": "MULTIPLIER SLIDING LAYERS:\nYou can upload this file and PLAY its cells at https://jupyterlite.github.io/demo/lab/index.html\n\nGenerally?:\n- Convert to PDF. With Inkscape\n- make shifters interactive, through arrow keys and maybe swiping touch screens\n- Negative numbers: Don't do 0..n but -m..n, both x and y will then look like https://raw.githubusercontent.com/steltenpower/ElementarySchoolGimmicks/master/IMG_20230328_233125596.jpg\nThe blocking of + and - icons depicting xy should be n wide on x and n high on y\n\nFront of thing?:\n- optional graph paper pattern and distances for those without printers or laser cutters.\n- test text-alignment in Rhino3D as our current choice for laser cutting (preview), not supporting CSS.\n- Add a pattern of lines in the direction of movement, where full=mustVisuallyBlock, dashed=restOfMovingPart, dotted=border  \n- A font for good accessibility, the thin zero to fat nine font? I guess braille won't work here\n- PATTERN of emoji, instead of each apart\n- For no-javascript screens link between all possible states? Also monochrome for e-readers\n\nBack of thing?\n- \"Style this thing!\"\n- \"No two are the same,\n   counting is ignoring too.\n   Question value systems,\n   help others do good\"\n- U+1F16D U+1F16 U+1F10E, ♡ for ❀\n  calculearner.org\" # https://www.ctrl.blog/entry/creative-commons-unicode-fallback-font.html\n\nPage?:\n- Advise a minimal size depending on the thickness of the material\n- Add a description on how to lasercut it and glue layers together",
      "metadata": {
        "jp-MarkdownHeadingCollapsed": true
      }
    },
    {
      "cell_type": "raw",
      "source": "OVERVIEW\nborderb     input i     area       n+1          a     output    n+1           o          n+bw         max\n       l     r     l     r     l                       r     l                       r                       x\n---  btA  bw = ----2---- = dw  * -1- = -------n------- * mw  * -------n------- = -1- = -------n------- = bw  B \nbw     |     .     .     .     .     .     .     .     .     .     .     .     .     .     .     .     .     |\n---  bb|  .  C-----------------------------------------------------------------------D  .  .  .  .  .  /  .  | \n       1     |     .     .     .     .     .     .     .     .  #     #     #     #  |     .     .     .     | \n       |  .  |  .  .  .  .  .  .  .  .  .  .  .  .  .  .  .  .                       |  .  .  .  /  .  .  .  | \nn      1     |     .     .     .     .     .     .     .     .  #     #     #     #  |     .     .     .     | \n       |  .  |  .  .  .  .  .  .  .  .  .  .  .  .  .  .  .  .                       |  .  /  .  .  .  .  .  |\n       1     |     .     .     .     .     .     .     .     .  #     #     #     #  |     .     .     .     |\n---  ot*  .  |  .  .  .  .  .  .  .  .  .  .  .  .  .  .  .  E-----------------------F  .  .  .  .  .  .  .  | \n1      1     |     .     .     .     .     .     .     .     |  0     3     6     9  |     .     .     .     | \n---  om|  .  |  .  .  .  .  .  .  .  .  .  .  .  .  .  .  .  G-----------------------H  .  .  .  .  .  .  .  | \n       1     |     .     .     .     .     .     .     .     .  0#    2#    4#    6# |     .     .     .     | \n       |  .  |  .  .  .  .  .  .  .  .  .  .  .  .  .  .  .  .                       |  .  .  .  .  .  .  .  | \nn      1     |  #  .  #  .     .     .  #  .  #  .  #  .     .  0#    1#    2#    3# |     .     .     .     | \n       |  .  |  .  .  .  .  .  .  .  .  .  .  .  .  .  .  .  .                       |  .  .  .  .  .  .  .  | \n       1     |  #  .  #  .     .     .  #  .  #  .  #  .     .  0#    0#    0#    0# |     .     .     .     | \n---  ob*  .  |  .  .  .  .  .  .  .  .  .  .  .  .  .  .  .  I-----------------------J  .  .  .  .  .  .  .  | \nmw,mid |     |  #  .  #  .     .     .  #  .  #  .  #  .  /                          |     .     .     .     | \n--- at KK .  K-----------L  .  M-----------------------N           .     .     .     |  .  .  .  .  .  .  .  | \n       1     |  X     3  |     |  _     X     X     X                                |     .     .     .     | \n     ib|  .  |     O-----P     |                                   .     .     .     |  .  .  .  .  .  .  .  | \nn      1     |  X  |  2#       |  _     X     X     X                                |     .     .     .     | \nhole oh|  .  |     |           |                             Q-----------------------R  .  .  .  .  .  .  .  | \ncount  1     |  X  |  1#       |  _     X     X     X     /  .     .     .     .     .     .     .     .     | \n---  cb|  .  S-----T           |                       QQ .  .  .  .  .  .  .  .  .  .  .  .  .  .  .  .  .  | \n1      1     .  d  |  0#       |  _     _     _     _  |     .     .     .     .     .     .     .     .     | \n---  abU-----------V          OO                       |  .  .  .  .  .  .  .  .  .  .  .  .  .  .  .  .  .  | \ndw                 |           |                       |     .     .     .     .     .     .     .     .     | \n---                |           |                       |  .  .  .  .  .  .  .  .  .  .  .  .  .  .  .  .  .  |\n                   |           |  0     1     2     3  |     .     .     .     .     .     .     .     .     |\n2                  /           |                       |  .  .  .  .  .  .  .  .  .  .  .  .  .  .  .  .  .  |\n                   |           |  d     X     X     X  |     .     .     .     .     .     .     .     .     |\n---                |           |                       |  .  .  .  .  .  .  .  .  .  .  .  .  .  .  .  .  .  |\nbw                 |           |                       |     .     .     .     .     .     .     .     .     |\n---  og origin     W-----------X                       Y-----------------------------------------------------Z \n\ncopy-paste to ease making paths\nx,y: 0       margin+bw+2+dw+1+n+mw+n+1+n+bw+margin   vBsize (vB=viewBox)\nx,y: vBsize  margin+bw+n+1+n+mw+n+1+dw+2+bw+margin   0 (=reverse of previous line)\n             margin     +     size     +    margin",
      "metadata": {
        "tags": [],
        "editable": true,
        "slideshow": {
          "slide_type": ""
        },
        "raw_mimetype": "",
        "jupyter": {
          "source_hidden": true
        }
      }
    },
    {
      "cell_type": "code",
      "source": "########## configuration ###########\nfemoji = input(\"What is your favorite emoji to count?\") # \"💩\", give it a default through URLparam ?\nn=2 #(n=3 matches drawing above, though you might want 12\ncutWidth=0.1 # for now assume the cutWidth is not too thin to PRINT instead\nmode=\"CutRed\" #/CutGrey/fullColor\nsvgWidth,svgHeight=380,380 #why 380px?\nbw,dw,mw,margin=1,1,1,1 # see drawing in above cell. Margin on 4 sides\n\nfillOpacity=\"0.5\" # only used in fullColor\nlayersColored=['red','green','blue','yellow']\nsize=bw+2+dw+1+n+mw+n+1+n+bw\nvBsize=margin+size+margin\n\nsvgDocType =(\n    '<?xml version=\"1.0\" encoding=\"UTF-8\" standalone=\"no\"?>\\n'\n    '<!DOCTYPE svg PUBLIC \"-//W3C//DTD SVG 1.1//EN\" \"http://www.w3.org/Graphics/SVG/1.1/DTD/svg11.dtd\">\\n'\n)\ncutColor='grey'         if mode=='CutGrey'   else 'red'\nemojiStyle= 'emoji'     if mode=='fullColor' else 'text'\nfillOpacity=fillOpacity if mode==\"fullColor\" else \"0\"\nsvgRoot =(\n    f'<svg xmlns=\"http://www.w3.org/2000/svg\" preserveAspectRatio=\"xMidYMid\" width=\"{svgWidth}\" height=\"{svgHeight}\" viewBox=\"0 0 {vBsize} {vBsize}\" overflow=\"visible\">\\n'\n     '<style>\\n'\n     '  path{'+f'stroke:{cutColor};stroke-width:{cutWidth};fill:none;fill-opacity:{fillOpacity}'+'}\\n'\n     '  rect{fill:none;stroke:black;stroke-width:0.05;}\\n'\n     '  text{'+f'text-anchor:middle;alignment-baseline:middle;font-family:Courier;font-size:0.7px;letter-spacing:-0.1;font-variant-emoji:{emojiStyle};transform:translate(5.5px,10.5px);'+'}\\n' # https://opendyslexic.org font\n     '</style>\\n'\n)\nrootGopen=f'<g id=\"pointUpInstead\" transform=\"matrix(1,0,0,-1,0,{vBsize})\">\\n'\n\nimport re #=RegularExpressions\ndef my_sign(x):\n    return (x > 0) - (x < 0)\n\nfrom IPython.display import HTML, display\ndef fileSave(fileName,svg):\n    f=open(f'{fileName}.svg','w') #calc{n}x{n}\n    f.write(svgDocType+svg)\n    f.close()\ndef output(fileName,svg):\n    fileSave(fileName,svg)\n    display(HTML(f'<html><body>{svg}</body></html>'))",
      "metadata": {
        "trusted": true,
        "scrolled": true
      },
      "outputs": [
        {
          "output_type": "stream",
          "name": "stdin",
          "text": "What is your favorite emoji to count? 💩\n"
        }
      ],
      "execution_count": 1
    },
    {
      "cell_type": "code",
      "source": "######### bottom layer\ndef write(x,y,char):\n    return f'      <text x=\"{x}\" y=\"-{y}\">{char}</text>\\n' # -y :emoji;\ndef dot(x,y,ij):\n    emojis=[\"➖\",\"\",femoji]\n    ej=emojis[my_sign(ij)+1]\n    result=\"\"\n    if ej!=\"\":\n        result=write(x,y,ej)\n    return result\nI=margin+bw+2+dw+1+n+mw # to check if lines and numbers are aligned\nbottom=f'  <rect x=\"{I}\" y=\"{I}\" width=\"1\" height=\"1\"/>\\n'\nOO=margin+bw+2+dw\n#       OO=v-(dw+2+bw)=X=h(1+n+mw+n+1+n+bw)=Z=v(bw+2+dw+1+n+mw+n+1+n+bw)=B=h-(bw+n+1+n+mw+n+1+dw+2+bw)=A=v-(bw+n+1+n+mw+n+1)=U=h(bw+2+dw)=OO\nd_move = f'M{OO},{OO}'\nd_draws=f' v-{dw+2+bw}   h{1+n+mw+n+1+n+bw}   v{size}                      h-{size}                      v-{bw+n+1+n+mw+n+1} z'\nd_draws=re.sub(r\"\\s+\",\" \",d_draws) # multiple spaces become 1 space\nbottom+=f'  <path d=\"{d_move+d_draws}\"/>\\n' \nbottom+='</g>\\n'\n\n#emoji <pattern>s\nbottom+=f'\\n<g transform=\"translate(0,{2+dw})\">\\n'\nfor i in range(0,n+1): #horizontal, aka x-direction\n    bottom+=dot(i,0,i)\nbottom+=f'    </g>\\n    <g transform=\"translate(-{2+dw},0)\">\\n'\nfor i in range(0,n+1): #vertical,   aka y-direction\n    bottom+=dot(0,i,i)\nbottom+=\"    </g>\\n    <g>\\n\"\nfor i in range(0,n+1): #product\n    for j in range(0,n+1):\n        bottom+=dot(i,j,i*j)   # xy dots\nbottom+=f'    </g>\\n    <g transform=\"translate(0,{1+dw})\">\\n'\n\n#numbers\nfor i in range(0,n+1): #horizontal, aka x\n    bottom+=write(i,0,str(i))\nbottom+=f'    </g>\\n    <g transform=\"translate(-{1+dw},0)\">\\n'\nfor i in range(0,n+1): #vertical, aka y\n    bottom+=write(0,i,str(i))\nbottom+=f'    </g>\\n    <g transform=\"translate({n+1+mw},-{n+1+mw})\">\\n'\nfor i in range(0,n+1): # x*y product\n    for j in range(0,n+1):\n        bottom+=write(i,j,str(i*j))\noutput(\"bottom\",svgRoot+rootGopen+bottom+'</g>\\n\\n</svg>')",
      "metadata": {
        "trusted": true,
        "tags": [],
        "editable": true,
        "slideshow": {
          "slide_type": ""
        }
      },
      "outputs": [
        {
          "output_type": "display_data",
          "data": {
            "text/plain": "<IPython.core.display.HTML object>",
            "text/html": "<html><body><svg xmlns=\"http://www.w3.org/2000/svg\" preserveAspectRatio=\"xMidYMid\" width=\"380\" height=\"380\" viewBox=\"0 0 16 16\" overflow=\"visible\">\n<style>\n  path{stroke:red;stroke-width:0.1;fill:none;fill-opacity:0}\n  rect{fill:none;stroke:black;stroke-width:0.05;}\n  text{text-anchor:middle;alignment-baseline:middle;font-family:Courier;font-size:0.7px;letter-spacing:-0.1;font-variant-emoji:text;transform:translate(5.5px,10.5px);}\n</style>\n<g id=\"pointUpInstead\" transform=\"matrix(1,0,0,-1,0,16)\">\n  <rect x=\"9\" y=\"9\" width=\"1\" height=\"1\"/>\n  <path d=\"M5,5 v-4 h10 v14 h-14 v-10 z\"/>\n</g>\n\n<g transform=\"translate(0,3)\"><!-- this and following groups of text have y turned into -y -->\n      <text x=\"1\" y=\"-0\">💩</text>\n      <text x=\"2\" y=\"-0\">💩</text>\n    </g>\n    <g transform=\"translate(-3,0)\">\n      <text x=\"0\" y=\"-1\">💩</text>\n      <text x=\"0\" y=\"-2\">💩</text>\n    </g>\n    <g>\n      <text x=\"1\" y=\"-1\">💩</text>\n      <text x=\"1\" y=\"-2\">💩</text>\n      <text x=\"2\" y=\"-1\">💩</text>\n      <text x=\"2\" y=\"-2\">💩</text>\n    </g>\n    <g transform=\"translate(0,2)\">\n      <text x=\"0\" y=\"-0\">0</text>\n      <text x=\"1\" y=\"-0\">1</text>\n      <text x=\"2\" y=\"-0\">2</text>\n    </g>\n    <g transform=\"translate(-2,0)\">\n      <text x=\"0\" y=\"-0\">0</text>\n      <text x=\"0\" y=\"-1\">1</text>\n      <text x=\"0\" y=\"-2\">2</text>\n    </g>\n    <g transform=\"translate(4,-4)\">\n      <text x=\"0\" y=\"-0\">0</text>\n      <text x=\"0\" y=\"-1\">0</text>\n      <text x=\"0\" y=\"-2\">0</text>\n      <text x=\"1\" y=\"-0\">0</text>\n      <text x=\"1\" y=\"-1\">1</text>\n      <text x=\"1\" y=\"-2\">2</text>\n      <text x=\"2\" y=\"-0\">0</text>\n      <text x=\"2\" y=\"-1\">2</text>\n      <text x=\"2\" y=\"-2\">4</text>\n</g>\n\n</svg></body></html>"
          },
          "metadata": {}
        }
      ],
      "execution_count": 2
    },
    {
      "cell_type": "code",
      "source": "#slide C= v-(n+1+n+mw) =K= h() =L= v-1 =P= h-1 =O= v-(n-1+1+dw+2+bw) =W= h(1+dw) =X= v(bw+2+dw+1+n) =M= h(1+n) =N= l(mw),(mw) =I= h(n+1) =J= v(n) =H= h-(1+n) =G= v1 =E= h(n+1) =F= vn =D= h-(1+n+mw+n+1+dw+2) =C\nd_draws=f'v-{n+1+n+mw}     h2      v-1     h-1     v-{n-1+1+dw+2+bw}     h{1+dw}     v{bw+2+dw+1+n}     h{1+n}     l{mw},{mw}     h{n+1}     v{n}     h-{1+n}     v1     h{n+1}     v{n} z'\nd_draws=re.sub(r\"\\s+\",\" \",d_draws)\nd_move = f'M{margin+bw},{margin+size-bw}' #C\nslider=f'  <path d=\"{d_move+d_draws}\"/>\\n' \n#output(\"slider\",svgRoot+rootGopen+slider+'</g>\\n\\n</svg>')",
      "metadata": {
        "trusted": true,
        "tags": [],
        "editable": true,
        "slideshow": {
          "slide_type": ""
        }
      },
      "outputs": [],
      "execution_count": 3
    },
    {
      "cell_type": "code",
      "source": "################\nd_move=f'M{margin},{margin+size}' # A\n# border= # A= v-(bw+n+1+n+mw+n+1) =U= h(bw+1) =V- v1 -T= h-1 =S= v(n) =K- v(mw+n+1+n) -C- h(2+dw+1+n+mw+n+1) -D- v-(n) -F= v-1 =H- v-(n) -J= v-(n) =R= h-(1+n) =Q= l-(mw),-(mw) =QQ= v-(1+dw+2+bw) =Y= h(mw+n+1+n+bw) =Z= v(bw+2+dw+1+n+mw+n+1+n+bw) =B= h-(bw+n+1+n+mw+n+1+dw+2+bw) =A\nd_drawsNskips=f'     v-{bw+n+1+n+mw+n+1}     h{bw+1}   m0,1     h-1     v{n}   m0,{mw+n+1+n}    m{2+dw+1+n+mw+n+1},0  m0,-{n}    v-1    m0,-{n}    v-{n}    h-{1+n}     l-{mw},-{mw}      v-{mw+dw+2+bw}     h{mw+n+1+n+bw}     v{size}                       h-{size}'\nd_drawsNskips=re.sub(r\"\\s+\",\" \",d_drawsNskips)\nborderCutsNskips=f'  <path d=\"{d_move+d_drawsNskips}\"/>\\n' \n#output(\"borderCutsNskips\",svgRoot+rootGopen+borderCutsNskips+'</g>\\n\\n</svg>')",
      "metadata": {
        "trusted": true,
        "tags": [],
        "editable": true,
        "slideshow": {
          "slide_type": ""
        }
      },
      "outputs": [],
      "execution_count": 4
    },
    {
      "cell_type": "code",
      "source": "d_draws=d_drawsNskips.replace(\"m\",\"l\")\nborder=f'  <path d=\"{d_move+d_draws}\"/>\\n' \n#output(\"border\",svgRoot+rootGopen+border+'</g>\\n\\n</svg>')",
      "metadata": {
        "trusted": true,
        "tags": [],
        "editable": true,
        "slideshow": {
          "slide_type": ""
        }
      },
      "outputs": [],
      "execution_count": 5
    },
    {
      "cell_type": "code",
      "source": "sliderAndBorder=slider+border\noutput(\"sliderAndBorder\",svgRoot+rootGopen+sliderAndBorder+'</g>\\n\\n</svg>')",
      "metadata": {
        "trusted": true
      },
      "outputs": [
        {
          "output_type": "display_data",
          "data": {
            "text/plain": "<IPython.core.display.HTML object>",
            "text/html": "<html><body><svg xmlns=\"http://www.w3.org/2000/svg\" preserveAspectRatio=\"xMidYMid\" width=\"380\" height=\"380\" viewBox=\"0 0 16 16\" overflow=\"visible\">\n<style>\n  path{stroke:red;stroke-width:0.1;fill:none;fill-opacity:0}\n  rect{fill:none;stroke:black;stroke-width:0.05;}\n  text{text-anchor:middle;alignment-baseline:middle;font-family:Courier;font-size:0.7px;letter-spacing:-0.1;font-variant-emoji:text;transform:translate(5.5px,10.5px);}\n</style>\n<g id=\"pointUpInstead\" transform=\"matrix(1,0,0,-1,0,16)\">\n  <path d=\"M2,14v-6 h2 v-1 h-1 v-6 h2 v7 h3 l1,1 h3 v2 h-3 v1 h3 v2 z\"/>\n  <path d=\"M1,15 v-10 h2 l0,1 h-1 v2 l0,6 l10,0 l0,-2 v-1 l0,-2 v-2 h-3 l-1,-1 v-5 h7 v14 h-14\"/>\n</g>\n\n</svg></body></html>"
          },
          "metadata": {}
        }
      ],
      "execution_count": 6
    },
    {
      "cell_type": "code",
      "source": "#'closing' lid\nN=margin+bw+2+dw+1+n #N                 KK                  A           B           Z                 Y                  N\noutside_d=f'M{N},{N}     h-{N-margin}       v{mw+n+1+n+bw}     h{size}    v-{size}    h-{bw+n+1+n+mw}    v{bw+2+dw+1+n}'\noutside_d=re.sub(r'\\s+',\" \",outside_d)\nlid=f'  <path id=\"lid\" d=\"{outside_d}\"/>\\n'\n#                         I                          E F J I\ninside_d=f'M{margin+bw+2+dw+1+n+mw},{margin+bw+2+dw+1+n+mw}   v{n+1} h{n+1} v-{n+1} h-{n+1}'\ninside_d=re.sub(r'\\s+',\" \",inside_d)\nlid+=f'  <path d=\"{inside_d}\"/>\\n'\noutput(\"lid\",svgRoot+rootGopen+lid+'</g>\\n\\n</svg>') # You might need a mask here, or some fill rule, just try with a background",
      "metadata": {
        "trusted": true,
        "tags": [],
        "editable": true,
        "slideshow": {
          "slide_type": ""
        }
      },
      "outputs": [
        {
          "output_type": "display_data",
          "data": {
            "text/plain": "<IPython.core.display.HTML object>",
            "text/html": "<html><body><svg xmlns=\"http://www.w3.org/2000/svg\" preserveAspectRatio=\"xMidYMid\" width=\"380\" height=\"380\" viewBox=\"0 0 16 16\" overflow=\"visible\">\n<style>\n  path{stroke:red;stroke-width:0.1;fill:none;fill-opacity:0}\n  rect{fill:none;stroke:black;stroke-width:0.05;}\n  text{text-anchor:middle;alignment-baseline:middle;font-family:Courier;font-size:0.7px;letter-spacing:-0.1;font-variant-emoji:text;transform:translate(5.5px,10.5px);}\n</style>\n<g id=\"pointUpInstead\" transform=\"matrix(1,0,0,-1,0,16)\">\n  <path id=\"lid\" d=\"M8,8 h-7 v7 h14 v-14 h-7 v7\"/>\n  <path d=\"M9,9 v3 h3 v-3 h-3\"/>\n</g>\n\n</svg></body></html>"
          },
          "metadata": {}
        }
      ],
      "execution_count": 7
    },
    {
      "cell_type": "code",
      "source": "stack=bottom+sliderAndBorder+f'<g transform=\"matrix(0,-1,-1,0,{svgWidth},{svgHeight})\">'+sliderAndBorder+'</g>'+lid\noutput(\"stack\",svgRoot+rootGopen+stack+'</g>\\n\\n</svg>')",
      "metadata": {
        "trusted": true
      },
      "outputs": [
        {
          "output_type": "display_data",
          "data": {
            "text/plain": "<IPython.core.display.HTML object>",
            "text/html": "<html><body><svg xmlns=\"http://www.w3.org/2000/svg\" preserveAspectRatio=\"xMidYMid\" width=\"380\" height=\"380\" viewBox=\"0 0 16 16\" overflow=\"visible\">\n<style>\n  path{stroke:red;stroke-width:0.1;fill:none;fill-opacity:0}\n  rect{fill:none;stroke:black;stroke-width:0.05;}\n  text{text-anchor:middle;alignment-baseline:middle;font-family:Courier;font-size:0.7px;letter-spacing:-0.1;font-variant-emoji:text;transform:translate(5.5px,10.5px);}\n</style>\n<g id=\"pointUpInstead\" transform=\"matrix(1,0,0,-1,0,16)\">\n  <rect x=\"9\" y=\"9\" width=\"1\" height=\"1\"/>\n  <path d=\"M5,5 v-4 h10 v14 h-14 v-10 z\"/>\n</g>\n\n<g transform=\"translate(0,3)\"><!-- this and following groups of text have y turned into -y -->\n      <text x=\"1\" y=\"-0\">💩</text>\n      <text x=\"2\" y=\"-0\">💩</text>\n    </g>\n    <g transform=\"translate(-3,0)\">\n      <text x=\"0\" y=\"-1\">💩</text>\n      <text x=\"0\" y=\"-2\">💩</text>\n    </g>\n    <g>\n      <text x=\"1\" y=\"-1\">💩</text>\n      <text x=\"1\" y=\"-2\">💩</text>\n      <text x=\"2\" y=\"-1\">💩</text>\n      <text x=\"2\" y=\"-2\">💩</text>\n    </g>\n    <g transform=\"translate(0,2)\">\n      <text x=\"0\" y=\"-0\">0</text>\n      <text x=\"1\" y=\"-0\">1</text>\n      <text x=\"2\" y=\"-0\">2</text>\n    </g>\n    <g transform=\"translate(-2,0)\">\n      <text x=\"0\" y=\"-0\">0</text>\n      <text x=\"0\" y=\"-1\">1</text>\n      <text x=\"0\" y=\"-2\">2</text>\n    </g>\n    <g transform=\"translate(4,-4)\">\n      <text x=\"0\" y=\"-0\">0</text>\n      <text x=\"0\" y=\"-1\">0</text>\n      <text x=\"0\" y=\"-2\">0</text>\n      <text x=\"1\" y=\"-0\">0</text>\n      <text x=\"1\" y=\"-1\">1</text>\n      <text x=\"1\" y=\"-2\">2</text>\n      <text x=\"2\" y=\"-0\">0</text>\n      <text x=\"2\" y=\"-1\">2</text>\n      <text x=\"2\" y=\"-2\">4</text>\n  <path d=\"M2,14v-6 h2 v-1 h-1 v-6 h2 v7 h3 l1,1 h3 v2 h-3 v1 h3 v2 z\"/>\n  <path d=\"M1,15 v-10 h2 l0,1 h-1 v2 l0,6 l10,0 l0,-2 v-1 l0,-2 v-2 h-3 l-1,-1 v-5 h7 v14 h-14\"/>\n<g transform=\"matrix(0,-1,-1,0,380,380)\">  <path d=\"M2,14v-6 h2 v-1 h-1 v-6 h2 v7 h3 l1,1 h3 v2 h-3 v1 h3 v2 z\"/>\n  <path d=\"M1,15 v-10 h2 l0,1 h-1 v2 l0,6 l10,0 l0,-2 v-1 l0,-2 v-2 h-3 l-1,-1 v-5 h7 v14 h-14\"/>\n</g>  <path id=\"lid\" d=\"M8,8 h-7 v7 h14 v-14 h-7 v7\"/>\n  <path d=\"M9,9 v3 h3 v-3 h-3\"/>\n</g>\n\n</svg></body></html>"
          },
          "metadata": {}
        }
      ],
      "execution_count": 8
    },
    {
      "cell_type": "code",
      "source": "#### You can interact with arrow keys or swipe\nsvg=\"\"\"\n<svg onkeydown=\"slide(evt)\" xmlns=\"http://www.w3.org/2000/svg\" preserveAspectRatio=\"xMidYMid\" width=\"380\" height=\"380\" overflow=\"visible\" viewBox=\"0 0 380 380\">\n  <script>\n    function slide(evt) {\n        evt.preventDefault();\n        document.getElementById(\"slide_down\").setAttribute(\"transform\",\"translate(0,120)\");\n    }\n  </script>\"\"\"",
      "metadata": {
        "trusted": true,
        "scrolled": true
      },
      "outputs": [],
      "execution_count": 9
    },
    {
      "cell_type": "code",
      "source": "%pip install Spire.Pdf\nfrom spire.pdf.common import *\nfrom spire.pdf import *\n\ndoc = PdfDocument() # Create a PdfDocument object\ndoc.LoadFromSvg(\"bottom_Ksom.svg\")  # Load an SVG file\ndoc.SaveToFile(\"bottom_Ksom.pdf\", FileFormat.PDF)  # Save the SVG file to PDF format\ndoc.Close()  # Close the PdfDocument object",
      "metadata": {
        "trusted": true
      },
      "outputs": [
        {
          "ename": "<class 'ValueError'>",
          "evalue": "Can't find a pure Python 3 wheel for 'spire-pdf'.\nSee: https://pyodide.org/en/stable/usage/faq.html#why-can-t-micropip-find-a-pure-python-wheel-for-a-package\nYou can use `await micropip.install(..., keep_going=True)` to get a list of all packages with missing wheels.",
          "traceback": [
            "\u001b[0;31m---------------------------------------------------------------------------\u001b[0m",
            "\u001b[0;31mValueError\u001b[0m                                Traceback (most recent call last)",
            "Cell \u001b[0;32mIn[10], line 1\u001b[0m\n\u001b[0;32m----> 1\u001b[0m \u001b[38;5;28;01mawait\u001b[39;00m \u001b[38;5;28m__import__\u001b[39m(\u001b[38;5;124m\"\u001b[39m\u001b[38;5;124mpiplite\u001b[39m\u001b[38;5;124m\"\u001b[39m)\u001b[38;5;241m.\u001b[39minstall(\u001b[38;5;241m*\u001b[39m\u001b[38;5;241m*\u001b[39m{\u001b[38;5;124m'\u001b[39m\u001b[38;5;124mrequirements\u001b[39m\u001b[38;5;124m'\u001b[39m: [\u001b[38;5;124m'\u001b[39m\u001b[38;5;124mSpire.Pdf\u001b[39m\u001b[38;5;124m'\u001b[39m]})\n\u001b[1;32m      2\u001b[0m \u001b[38;5;28;01mfrom\u001b[39;00m \u001b[38;5;21;01mspire\u001b[39;00m\u001b[38;5;21;01m.\u001b[39;00m\u001b[38;5;21;01mpdf\u001b[39;00m\u001b[38;5;21;01m.\u001b[39;00m\u001b[38;5;21;01mcommon\u001b[39;00m \u001b[38;5;28;01mimport\u001b[39;00m \u001b[38;5;241m*\u001b[39m\n\u001b[1;32m      3\u001b[0m \u001b[38;5;28;01mfrom\u001b[39;00m \u001b[38;5;21;01mspire\u001b[39;00m\u001b[38;5;21;01m.\u001b[39;00m\u001b[38;5;21;01mpdf\u001b[39;00m \u001b[38;5;28;01mimport\u001b[39;00m \u001b[38;5;241m*\u001b[39m\n",
            "File \u001b[0;32m/lib/python3.12/site-packages/piplite/piplite.py:121\u001b[0m, in \u001b[0;36m_install\u001b[0;34m(requirements, keep_going, deps, credentials, pre, index_urls, verbose)\u001b[0m\n\u001b[1;32m    119\u001b[0m \u001b[38;5;250m\u001b[39m\u001b[38;5;124;03m\"\"\"Invoke micropip.install with a patch to get data from local indexes\"\"\"\u001b[39;00m\n\u001b[1;32m    120\u001b[0m \u001b[38;5;28;01mwith\u001b[39;00m patch(\u001b[38;5;124m\"\u001b[39m\u001b[38;5;124mmicropip.package_index.query_package\u001b[39m\u001b[38;5;124m\"\u001b[39m, _query_package):\n\u001b[0;32m--> 121\u001b[0m     \u001b[38;5;28;01mreturn\u001b[39;00m \u001b[38;5;28;01mawait\u001b[39;00m micropip\u001b[38;5;241m.\u001b[39minstall(\n\u001b[1;32m    122\u001b[0m         requirements\u001b[38;5;241m=\u001b[39mrequirements,\n\u001b[1;32m    123\u001b[0m         keep_going\u001b[38;5;241m=\u001b[39mkeep_going,\n\u001b[1;32m    124\u001b[0m         deps\u001b[38;5;241m=\u001b[39mdeps,\n\u001b[1;32m    125\u001b[0m         credentials\u001b[38;5;241m=\u001b[39mcredentials,\n\u001b[1;32m    126\u001b[0m         pre\u001b[38;5;241m=\u001b[39mpre,\n\u001b[1;32m    127\u001b[0m         index_urls\u001b[38;5;241m=\u001b[39mindex_urls,\n\u001b[1;32m    128\u001b[0m         verbose\u001b[38;5;241m=\u001b[39mverbose,\n\u001b[1;32m    129\u001b[0m     )\n",
            "File \u001b[0;32m/lib/python3.12/site-packages/micropip/package_manager.py:146\u001b[0m, in \u001b[0;36mPackageManager.install\u001b[0;34m(self, requirements, keep_going, deps, credentials, pre, index_urls, constraints, verbose)\u001b[0m\n\u001b[1;32m    143\u001b[0m \u001b[38;5;28;01mif\u001b[39;00m constraints \u001b[38;5;129;01mis\u001b[39;00m \u001b[38;5;28;01mNone\u001b[39;00m:\n\u001b[1;32m    144\u001b[0m     constraints \u001b[38;5;241m=\u001b[39m \u001b[38;5;28mself\u001b[39m\u001b[38;5;241m.\u001b[39mconstraints\n\u001b[0;32m--> 146\u001b[0m \u001b[38;5;28;01mreturn\u001b[39;00m \u001b[38;5;28;01mawait\u001b[39;00m install(\n\u001b[1;32m    147\u001b[0m     requirements,\n\u001b[1;32m    148\u001b[0m     index_urls,\n\u001b[1;32m    149\u001b[0m     keep_going,\n\u001b[1;32m    150\u001b[0m     deps,\n\u001b[1;32m    151\u001b[0m     credentials,\n\u001b[1;32m    152\u001b[0m     pre,\n\u001b[1;32m    153\u001b[0m     constraints\u001b[38;5;241m=\u001b[39mconstraints,\n\u001b[1;32m    154\u001b[0m     verbose\u001b[38;5;241m=\u001b[39mverbose,\n\u001b[1;32m    155\u001b[0m )\n",
            "File \u001b[0;32m/lib/python3.12/site-packages/micropip/install.py:52\u001b[0m, in \u001b[0;36minstall\u001b[0;34m(requirements, index_urls, keep_going, deps, credentials, pre, constraints, verbose)\u001b[0m\n\u001b[1;32m     39\u001b[0m wheel_base \u001b[38;5;241m=\u001b[39m Path(getsitepackages()[\u001b[38;5;241m0\u001b[39m])\n\u001b[1;32m     41\u001b[0m transaction \u001b[38;5;241m=\u001b[39m Transaction(\n\u001b[1;32m     42\u001b[0m     ctx\u001b[38;5;241m=\u001b[39mctx,  \u001b[38;5;66;03m# type: ignore[arg-type]\u001b[39;00m\n\u001b[1;32m     43\u001b[0m     ctx_extras\u001b[38;5;241m=\u001b[39m[],\n\u001b[0;32m   (...)\u001b[0m\n\u001b[1;32m     50\u001b[0m     constraints\u001b[38;5;241m=\u001b[39mconstraints,\n\u001b[1;32m     51\u001b[0m )\n\u001b[0;32m---> 52\u001b[0m \u001b[38;5;28;01mawait\u001b[39;00m transaction\u001b[38;5;241m.\u001b[39mgather_requirements(requirements)\n\u001b[1;32m     54\u001b[0m \u001b[38;5;28;01mif\u001b[39;00m transaction\u001b[38;5;241m.\u001b[39mfailed:\n\u001b[1;32m     55\u001b[0m     failed_requirements \u001b[38;5;241m=\u001b[39m \u001b[38;5;124m\"\u001b[39m\u001b[38;5;124m, \u001b[39m\u001b[38;5;124m\"\u001b[39m\u001b[38;5;241m.\u001b[39mjoin([\u001b[38;5;124mf\u001b[39m\u001b[38;5;124m\"\u001b[39m\u001b[38;5;124m'\u001b[39m\u001b[38;5;132;01m{\u001b[39;00mreq\u001b[38;5;132;01m}\u001b[39;00m\u001b[38;5;124m'\u001b[39m\u001b[38;5;124m\"\u001b[39m \u001b[38;5;28;01mfor\u001b[39;00m req \u001b[38;5;129;01min\u001b[39;00m transaction\u001b[38;5;241m.\u001b[39mfailed])\n",
            "File \u001b[0;32m/lib/python3.12/site-packages/micropip/transaction.py:71\u001b[0m, in \u001b[0;36mTransaction.gather_requirements\u001b[0;34m(self, requirements)\u001b[0m\n\u001b[1;32m     63\u001b[0m \u001b[38;5;28;01masync\u001b[39;00m \u001b[38;5;28;01mdef\u001b[39;00m \u001b[38;5;21mgather_requirements\u001b[39m(\n\u001b[1;32m     64\u001b[0m     \u001b[38;5;28mself\u001b[39m,\n\u001b[1;32m     65\u001b[0m     requirements: \u001b[38;5;28mlist\u001b[39m[\u001b[38;5;28mstr\u001b[39m] \u001b[38;5;241m|\u001b[39m \u001b[38;5;28mlist\u001b[39m[Requirement],\n\u001b[1;32m     66\u001b[0m ) \u001b[38;5;241m-\u001b[39m\u001b[38;5;241m>\u001b[39m \u001b[38;5;28;01mNone\u001b[39;00m:\n\u001b[1;32m     67\u001b[0m     requirement_promises \u001b[38;5;241m=\u001b[39m [\n\u001b[1;32m     68\u001b[0m         \u001b[38;5;28mself\u001b[39m\u001b[38;5;241m.\u001b[39madd_requirement(requirement) \u001b[38;5;28;01mfor\u001b[39;00m requirement \u001b[38;5;129;01min\u001b[39;00m requirements\n\u001b[1;32m     69\u001b[0m     ]\n\u001b[0;32m---> 71\u001b[0m     \u001b[38;5;28;01mawait\u001b[39;00m asyncio\u001b[38;5;241m.\u001b[39mgather(\u001b[38;5;241m*\u001b[39mrequirement_promises)\n",
            "File \u001b[0;32m/lib/python3.12/site-packages/micropip/transaction.py:94\u001b[0m, in \u001b[0;36mTransaction.add_requirement\u001b[0;34m(self, req)\u001b[0m\n\u001b[1;32m     91\u001b[0m     check_compatible(wheel\u001b[38;5;241m.\u001b[39mfilename)\n\u001b[1;32m     92\u001b[0m     \u001b[38;5;28;01mreturn\u001b[39;00m \u001b[38;5;28;01mawait\u001b[39;00m \u001b[38;5;28mself\u001b[39m\u001b[38;5;241m.\u001b[39madd_wheel(wheel, extras\u001b[38;5;241m=\u001b[39m\u001b[38;5;28mset\u001b[39m(), specifier\u001b[38;5;241m=\u001b[39m\u001b[38;5;124m\"\u001b[39m\u001b[38;5;124m\"\u001b[39m)\n\u001b[0;32m---> 94\u001b[0m \u001b[38;5;28;01mreturn\u001b[39;00m \u001b[38;5;28;01mawait\u001b[39;00m \u001b[38;5;28mself\u001b[39m\u001b[38;5;241m.\u001b[39madd_requirement_inner(Requirement(req))\n",
            "File \u001b[0;32m/lib/python3.12/site-packages/micropip/transaction.py:182\u001b[0m, in \u001b[0;36mTransaction.add_requirement_inner\u001b[0;34m(self, req)\u001b[0m\n\u001b[1;32m    179\u001b[0m         logger\u001b[38;5;241m.\u001b[39mdebug(\u001b[38;5;124m\"\u001b[39m\u001b[38;5;124mTransaction: package found in lock file: \u001b[39m\u001b[38;5;132;01m%r\u001b[39;00m\u001b[38;5;124m\"\u001b[39m, req)\n\u001b[1;32m    180\u001b[0m         \u001b[38;5;28;01mreturn\u001b[39;00m\n\u001b[0;32m--> 182\u001b[0m     \u001b[38;5;28;01mawait\u001b[39;00m \u001b[38;5;28mself\u001b[39m\u001b[38;5;241m.\u001b[39m_add_requirement_from_package_index(req)\n\u001b[1;32m    183\u001b[0m \u001b[38;5;28;01melse\u001b[39;00m:\n\u001b[1;32m    184\u001b[0m     \u001b[38;5;28;01mtry\u001b[39;00m:\n",
            "File \u001b[0;32m/lib/python3.12/site-packages/micropip/transaction.py:237\u001b[0m, in \u001b[0;36mTransaction._add_requirement_from_package_index\u001b[0;34m(self, req)\u001b[0m\n\u001b[1;32m    229\u001b[0m metadata \u001b[38;5;241m=\u001b[39m \u001b[38;5;28;01mawait\u001b[39;00m package_index\u001b[38;5;241m.\u001b[39mquery_package(\n\u001b[1;32m    230\u001b[0m     req\u001b[38;5;241m.\u001b[39mname,\n\u001b[1;32m    231\u001b[0m     \u001b[38;5;28mself\u001b[39m\u001b[38;5;241m.\u001b[39mindex_urls,\n\u001b[1;32m    232\u001b[0m     \u001b[38;5;28mself\u001b[39m\u001b[38;5;241m.\u001b[39mfetch_kwargs,\n\u001b[1;32m    233\u001b[0m )\n\u001b[1;32m    235\u001b[0m logger\u001b[38;5;241m.\u001b[39mdebug(\u001b[38;5;124m\"\u001b[39m\u001b[38;5;124mTransaction: got metadata \u001b[39m\u001b[38;5;132;01m%r\u001b[39;00m\u001b[38;5;124m for requirement \u001b[39m\u001b[38;5;132;01m%r\u001b[39;00m\u001b[38;5;124m\"\u001b[39m, metadata, req)\n\u001b[0;32m--> 237\u001b[0m wheel \u001b[38;5;241m=\u001b[39m \u001b[43mfind_wheel\u001b[49m\u001b[43m(\u001b[49m\u001b[43mmetadata\u001b[49m\u001b[43m,\u001b[49m\u001b[43m \u001b[49m\u001b[43mreq\u001b[49m\u001b[43m)\u001b[49m\n\u001b[1;32m    239\u001b[0m logger\u001b[38;5;241m.\u001b[39mdebug(\u001b[38;5;124m\"\u001b[39m\u001b[38;5;124mTransaction: Selected wheel: \u001b[39m\u001b[38;5;132;01m%r\u001b[39;00m\u001b[38;5;124m\"\u001b[39m, wheel)\n\u001b[1;32m    241\u001b[0m \u001b[38;5;66;03m# Maybe while we were downloading pypi_json some other branch\u001b[39;00m\n\u001b[1;32m    242\u001b[0m \u001b[38;5;66;03m# installed the wheel?\u001b[39;00m\n",
            "File \u001b[0;32m/lib/python3.12/site-packages/micropip/transaction.py:351\u001b[0m, in \u001b[0;36mfind_wheel\u001b[0;34m(metadata, req)\u001b[0m\n\u001b[1;32m    348\u001b[0m     \u001b[38;5;28;01mif\u001b[39;00m best_wheel \u001b[38;5;129;01mis\u001b[39;00m \u001b[38;5;129;01mnot\u001b[39;00m \u001b[38;5;28;01mNone\u001b[39;00m:\n\u001b[1;32m    349\u001b[0m         \u001b[38;5;28;01mreturn\u001b[39;00m wheel\n\u001b[0;32m--> 351\u001b[0m \u001b[38;5;28;01mraise\u001b[39;00m \u001b[38;5;167;01mValueError\u001b[39;00m(\n\u001b[1;32m    352\u001b[0m     \u001b[38;5;124mf\u001b[39m\u001b[38;5;124m\"\u001b[39m\u001b[38;5;124mCan\u001b[39m\u001b[38;5;124m'\u001b[39m\u001b[38;5;124mt find a pure Python 3 wheel for \u001b[39m\u001b[38;5;124m'\u001b[39m\u001b[38;5;132;01m{\u001b[39;00mreq\u001b[38;5;132;01m}\u001b[39;00m\u001b[38;5;124m'\u001b[39m\u001b[38;5;124m.\u001b[39m\u001b[38;5;130;01m\\n\u001b[39;00m\u001b[38;5;124m\"\u001b[39m\n\u001b[1;32m    353\u001b[0m     \u001b[38;5;124mf\u001b[39m\u001b[38;5;124m\"\u001b[39m\u001b[38;5;124mSee: \u001b[39m\u001b[38;5;132;01m{\u001b[39;00mFAQ_URLS[\u001b[38;5;124m'\u001b[39m\u001b[38;5;124mcant_find_wheel\u001b[39m\u001b[38;5;124m'\u001b[39m]\u001b[38;5;132;01m}\u001b[39;00m\u001b[38;5;130;01m\\n\u001b[39;00m\u001b[38;5;124m\"\u001b[39m\n\u001b[1;32m    354\u001b[0m     \u001b[38;5;124m\"\u001b[39m\u001b[38;5;124mYou can use `await micropip.install(..., keep_going=True)` \u001b[39m\u001b[38;5;124m\"\u001b[39m\n\u001b[1;32m    355\u001b[0m     \u001b[38;5;124m\"\u001b[39m\u001b[38;5;124mto get a list of all packages with missing wheels.\u001b[39m\u001b[38;5;124m\"\u001b[39m\n\u001b[1;32m    356\u001b[0m )\n",
            "\u001b[0;31mValueError\u001b[0m: Can't find a pure Python 3 wheel for 'spire-pdf'.\nSee: https://pyodide.org/en/stable/usage/faq.html#why-can-t-micropip-find-a-pure-python-wheel-for-a-package\nYou can use `await micropip.install(..., keep_going=True)` to get a list of all packages with missing wheels."
          ],
          "output_type": "error"
        }
      ],
      "execution_count": 10
    }
  ]
}
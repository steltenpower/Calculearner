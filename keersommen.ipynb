{
  "metadata": {
    "kernelspec": {
      "name": "python",
      "display_name": "Python (Pyodide)",
      "language": "python"
    },
    "language_info": {
      "codemirror_mode": {
        "name": "python",
        "version": 3
      },
      "file_extension": ".py",
      "mimetype": "text/x-python",
      "name": "python",
      "nbconvert_exporter": "python",
      "pygments_lexer": "ipython3",
      "version": "3.8"
    }
  },
  "nbformat_minor": 4,
  "nbformat": 4,
  "cells": [
    {
      "cell_type": "markdown",
      "source": "MULTIPLYING MACHINE:\nUpload this file and PLAY its cells at https://jupyterlite.github.io/demo/lab/index.html\nPrint black, cut red, glue borders on top of each other.\n\ntodo:\n- Add a pattern of lines in the direction of movement, where full=mustVisuallyBlock, dashed=restOfMovingPart, dotted=border\n- Have the stack actually render in here too (the generated file does render already)\n- make shifters interactive, through arrow keys and maybe swiping touch screens\n- Too advanced: Don't do 0..n but -m..n\nboth x and y will then look like https://raw.githubusercontent.com/steltenpower/ElementarySchoolGimmicks/master/IMG_20230328_233125596.jpg\nThe blocking of + and - icons depicting xy should be n wide on x and n high on y\n- Advise a minimal size depending on the thickness of the material\n- Make PDFs available for often used paper formats, at least in black&white\n- Have a description on how to laser cut it\n- needs a Creative Commons license",
      "metadata": {
        "jp-MarkdownHeadingCollapsed": true
      }
    },
    {
      "cell_type": "raw",
      "source": "       borderb     input i     area       n+1          a     output    n+1           o          n+bw         max\n       l     r     l     r     l                       r     l                       r                       x\n---  btA  bw = ----2---- = dw  * -1- = -------n------- * mw  * -------n------- = -1- = -------n------- = bw  B \nbw     |     .     .     .     .     .     .     .     .     .     .     .     .     .     .     .     .     |\n---  bb|  .  C-----------------------------------------------------------------------D  .  .  .  .  .  /  .  | \n       1     |     .     .     .     .     .     .     .     .  #     #     #     #  |     .     .     .     | \n       |  .  |  .  .  .  .  .  .  .  .  .  .  .  .  .  .  .  .                       |  .  .  .  /  .  .  .  | \nn      1     |     .     .     .     .     .     .     .     .  #     #     #     #  |     .     .     .     | \n       |  .  |  .  .  .  .  .  .  .  .  .  .  .  .  .  .  .  .                       |  .  /  .  .  .  .  .  |\n       1     |     .     .     .     .     .     .     .     .  #     #     #     #  |     .     .     .     |\n---  ot*  .  |  .  .  .  .  .  .  .  .  .  .  .  .  .  .  .  E-----------------------F  .  .  .  .  .  .  .  | \n1      1     |     .     .     .     .     .     .     .     |  0     3     6     9  |     .     .     .     | \n---  om|  .  |  .  .  .  .  .  .  .  .  .  .  .  .  .  .  .  G-----------------------H  .  .  .  .  .  .  .  | \n       1     |     .     .     .     .     .     .     .     .  0#    2#    4#    6# |     .     .     .     | \n       |  .  |  .  .  .  .  .  .  .  .  .  .  .  .  .  .  .  .                       |  .  .  .  .  .  .  .  | \nn      1     |  #  .  #  .     .     .  #  .  #  .  #  .     .  0#    1#    2#    3# |     .     .     .     | \n       |  .  |  .  .  .  .  .  .  .  .  .  .  .  .  .  .  .  .                       |  .  .  .  .  .  .  .  | \n       1     |  #  .  #  .     .     .  #  .  #  .  #  .     .  0#    0#    0#    0# |     .     .     .     | \n---  ob*  .  |  .  .  .  .  .  .  .  .  .  .  .  .  .  .  .  I-----------------------J  .  .  .  .  .  .  .  | \nmw,mid |     |  #  .  #  .     .     .  #  .  #  .  #  .  /                          |     .     .     .     | \n--- at KK .  K-----------L  .  M-----------------------N           .     .     .     |  .  .  .  .  .  .  .  | \n       1     |  X     3  |     |  _     X     X     X                                |     .     .     .     | \n     ib|  .  |     O-----P     |                                   .     .     .     |  .  .  .  .  .  .  .  | \nn      1     |  X  |  2#       |  _     X     X     X                                |     .     .     .     | \nhole oh|  .  |     |           |                             Q-----------------------R  .  .  .  .  .  .  .  | \ncount  1     |  X  |  1#       |  _     X     X     X     /  .     .     .     .     .     .     .     .     | \n---  cb|  .  S-----T           |                       QQ .  .  .  .  .  .  .  .  .  .  .  .  .  .  .  .  .  | \n1      1     .  d  |  0#       |  _     _     _     _  |     .     .     .     .     .     .     .     .     | \n---  abU-----------V          OO                       |  .  .  .  .  .  .  .  .  .  .  .  .  .  .  .  .  .  | \ndw                 |           |                       |     .     .     .     .     .     .     .     .     | \n---                |           |                       |  .  .  .  .  .  .  .  .  .  .  .  .  .  .  .  .  .  |\n                   |           |  0     1     2     3  |     .     .     .     .     .     .     .     .     |\n2                  /           |                       |  .  .  .  .  .  .  .  .  .  .  .  .  .  .  .  .  .  |\n                   |           |  d     X     X     X  |     .     .     .     .     .     .     .     .     |\n---                |           |                       |  .  .  .  .  .  .  .  .  .  .  .  .  .  .  .  .  .  |\nbw                 |           |                       |     .     .     .     .     .     .     .     .     |\n---  og origin     W-----------X                       Y-----------------------------------------------------Z \n\neasy copy-paste:\nx,y: 0       margin+bw+2+dw+1+n+mw+n+1+n+bw+margin   vBsize\nx,y: vBsize  margin+bw+n+1+n+mw+n+1+dw+2+bw+margin   vBsize\n             margin     +     size     +    margin",
      "metadata": {
        "tags": [],
        "editable": true,
        "slideshow": {
          "slide_type": ""
        },
        "raw_mimetype": ""
      }
    },
    {
      "cell_type": "code",
      "source": "########## configuration and generic stuff ###########\nn=3\nbw,dw,mw,margin=1,1,1,1 # see drawing in other cell\nsvgWidth,svgHeight=380,380\ncutStyle=' stroke=\"red\" stroke-width=\"0.1\" fill=\"none\"'\n\ntextAnchor=\"middle\"# text-anchor: start | middle | end\nalignmentBaseline=\"middle\" # alignment-baseline: auto | baseline | before-edge | text-before-edge | middle | central | after-edge | text-after-edge | ideographic | alphabetic | hanging | mathematical | top | center | bottom\nfontFamily=\"Courier\" #font-family \nfontSize=\"0.7\" #font-size\nletterSpacing=\"-0.1\" # letter-spacing\ntextAlign=f' text-anchor=\"{textAnchor}\" alignment-baseline=\"{alignmentBaseline}\"'\nfont=f' font-family=\"{fontFamily}\" font-size=\"{fontSize}\" letter-spacing=\"{letterSpacing}\"'\ntextStyle=textAlign+font\n\nfrom IPython.display import HTML\nfrom IPython.display import display\ndef output(id,svg):\n    file_object = open(f'{id}_keersommen.svg','w')\n    file_object.write(svgDocType+svg)\n    file_object.close()\n    display(HTML(f'<html><body>{svg}</body></html>'))\n    \nDx,Dy=0.5,0.5\ndx,dy=-0.05,-0.2\nmargin=1 # on top, left, right and bottom\nsize=bw+2+dw+1+n+mw+n+1+n+bw\nvBsize=margin+size+margin\n\nsvgDocType ='<?xml version=\"1.0\" encoding=\"UTF-8\" standalone=\"no\"?>\\n'\nsvgDocType+='<!DOCTYPE svg PUBLIC \"-//W3C//DTD SVG 1.1//EN\" \"http://www.w3.org/Graphics/SVG/1.1/DTD/svg11.dtd\">\\n'\nsvgRoot ='<svg xmlns=\"http://www.w3.org/2000/svg\" preserveAspectRatio=\"xMidYMid\"'\nsvgRoot+=f' width=\"{svgWidth}\" height=\"{svgHeight}\"'\nsvgRoot+=f' viewBox=\"0 0 {vBsize} {vBsize}\" overflow=\"visible\">\\n'\nrootGopen=f'<g transform=\"matrix(1,0,0,-1,0,{vBsize})\">\\n'\n\nprint(\"configuration done\")",
      "metadata": {
        "trusted": true,
        "scrolled": true
      },
      "outputs": [],
      "execution_count": null
    },
    {
      "cell_type": "code",
      "source": "#foundation layer\nimport re    \ndef num(i):\n    return str(i)   #x numbers  # i = int(s, 16) # hex, binary, octal\ndef write(x,y,char):\n    return f'      <text x=\"{x}\" y=\"-{y}\">{char}</text>\\n' # -y\ndef dot(x,y,ij):\n    if (ij>0):\n        result=write(x,y,\"➕\") # 💩⊕\n    elif (ij<0):\n        result=write(x,y,\"➖\") # ⊖\n    else:\n        result=\"\"\n    return result\nI=margin+bw+2+dw+1+n+mw\nsvg =svgRoot+rootGopen+f'  <rect x=\"{I}\" y=\"{I}\" width=\"1\" height=\"1\" fill=\"none\" stroke=\"black\" stroke-width=\"0.05\"/>\\n' # to check if lines and numbers are aligned\nOO=margin+bw+2+dw\n#       OO=v-(dw+2+bw)=X=h(1+n+mw+n+1+n+bw)=Z=v(bw+2+dw+1+n+mw+n+1+n+bw)=B=h-(bw+n+1+n+mw+n+1+dw+2+bw)=A=v-(bw+n+1+n+mw+n+1)=U=h(bw+2+dw)=OO\nd_move = f'M{OO},{OO}'\nd_draws=f' v-{dw+2+bw}   h{1+n+mw+n+1+n+bw}   v{size}                      h-{size}                      v-{bw+n+1+n+mw+n+1} z'\nd_draws=re.sub(\"\\s+\",\" \",d_draws)\nsvg+=f'  <path{cutStyle} d=\"{d_move+d_draws}\"/>\\n' \nsvg+='</g>\\n'\n\nsvg+=f'  <g{textStyle} transform=\"translate({OO+0.5+dx},{vBsize-(OO+0.5+dy)})\"><!-- y=vBsize-myY -->\\n'\nsvg+=f'    <g transform=\"translate(0,{2+dw})\"><!-- this and following groups of text have y turned into -y -->\\n'\nfor i in range(0,n+1):\n    svg+=dot(i,0,i)         # x dots\nsvg+=\"    </g>\\n\"\n\nsvg+=f'    <g transform=\"translate(0,{1+dw})\">\\n'\nfor i in range(0,n+1):\n    svg+=write(i,0,num(i))  # x nums\nsvg+=\"    </g>\\n\"\n\nsvg+=f'    <g transform=\"translate(-{2+dw},0)\">\\n'\nfor i in range(0,n+1):\n    svg+=dot(0,i,i)         # y dots\nsvg+=\"    </g>\\n\"\n\nsvg+=f'    <g transform=\"translate(-{1+dw},0)\">\\n'\nfor i in range(0,n+1):\n    svg+=write(0,i,num(i))  # y nums\nsvg+=\"    </g>\\n\"\n\nsvg+='    <g>\\n'\nfor i in range(0,n+1):\n    for j in range(0,n+1):\n        svg+=dot(i,j,i*j)   # xy dots\nsvg+='    </g>\\n'\n\nsvg+=f'    <g transform=\"translate({n+1+mw},-{n+1+mw})\">\\n'\nfor i in range(0,n+1):\n    for j in range(0,n+1):\n        svg+=write(i,j,num(i*j))    # xy nums\nsvg+='    </g>\\n'\nsvg+=\"  </g>\\n\"\nsvg+='\\n</svg>'\noutput(\"bottom\",svg)",
      "metadata": {
        "trusted": true,
        "tags": [],
        "editable": true,
        "slideshow": {
          "slide_type": ""
        }
      },
      "outputs": [],
      "execution_count": null
    },
    {
      "cell_type": "code",
      "source": "d_move = f'M{margin+bw},{margin+size-bw}' #C\n#      C= v-(n+1+n+mw) =K= h() =L= v-1 =P= h-1 =O= v-(n-1+1+dw+2+bw) =W= h(1+dw) =X= v(bw+2+dw+1+n) =M= h(1+n) =N= l(mw),(mw) =I= h(n+1) =J= v(n) =H= h-(1+n) =G= v1 =E= h(n+1) =F= vn =D= h-(1+n+mw+n+1+dw+2) =C\nd_draws=f'v-{n+1+n+mw}     h2      v-1     h-1     v-{n-1+1+dw+2+bw}     h{1+dw}     v{bw+2+dw+1+n}     h{1+n}     l{mw},{mw}     h{n+1}     v{n}     h-{1+n}     v1     h{n+1}     v{n} z'\nd_draws=re.sub(\"\\s+\",\" \",d_draws)\nslider=f'  <path{cutStyle} d=\"{d_move+d_draws}\"/>\\n' \noutput(\"slider\",svgRoot+rootGopen+slider+'</g>\\n\\n</svg>')",
      "metadata": {
        "trusted": true,
        "tags": [],
        "editable": true,
        "slideshow": {
          "slide_type": ""
        }
      },
      "outputs": [],
      "execution_count": null
    },
    {
      "cell_type": "code",
      "source": "d_move=f'M{margin},{margin+size}' # A\n# border= # A= v-(bw+n+1+n+mw+n+1) =U= h(bw+1) =V- v1 -T= h-1 =S= v(n) =K- v(mw+n+1+n) -C- h(2+dw+1+n+mw+n+1) -D- v-(n) -F= v-1 =H- v-(n) -J= v-(n) =R= h-(1+n) =Q= l-(mw),-(mw) =QQ= v-(1+dw+2+bw) =Y= h(mw+n+1+n+bw) =Z= v(bw+2+dw+1+n+mw+n+1+n+bw) =B= h-(bw+n+1+n+mw+n+1+dw+2+bw) =A\nd_drawsNskips=f'     v-{bw+n+1+n+mw+n+1}     h{bw+1}   m0,1     h-1     v{n}   m0,{mw+n+1+n}    m{2+dw+1+n+mw+n+1},0  m0,-{n}    v-1    m0,-{n}    v-{n}    h-{1+n}     l-{mw},-{mw}      v-{mw+dw+2+bw}     h{mw+n+1+n+bw}     v{size}                       h-{size}'\nd_drawsNskips=re.sub(\"\\s+\",\" \",d_drawsNskips)\nborderCutsNskips=f'  <path{cutStyle} d=\"{d_move+d_drawsNskips}\"/>\\n' \noutput(\"borderCutsNskips\",svgRoot+rootGopen+borderCutsNskips+'</g>\\n\\n</svg>')",
      "metadata": {
        "trusted": true,
        "tags": [],
        "editable": true,
        "slideshow": {
          "slide_type": ""
        }
      },
      "outputs": [],
      "execution_count": null
    },
    {
      "cell_type": "code",
      "source": "d_draws=d_drawsNskips.replace(\"m\",\"l\")\nborderCuts=f'  <path{cutStyle} d=\"{d_move+d_draws}\"/>\\n' \noutput(\"border\",svgRoot+rootGopen+borderCuts+'</g>\\n\\n</svg>')",
      "metadata": {
        "trusted": true,
        "tags": [],
        "editable": true,
        "slideshow": {
          "slide_type": ""
        }
      },
      "outputs": [],
      "execution_count": null
    },
    {
      "cell_type": "code",
      "source": "svg=\"\"\"\n<svg xmlns=\"http://www.w3.org/2000/svg\" preserveAspectRatio=\"xMidYMid\" width=\"380\" height=\"380\" overflow=\"visible\" viewBox=\"0 0 380 380\">\n    <image href=\"slider_keersommen.svg\" width=\"380\"/>\n    <image href=\"borderCutsNskips_keersommen.svg\" width=\"380\"/>\n</svg>\"\"\"\noutput(\"1and2\",svg)",
      "metadata": {
        "trusted": true
      },
      "outputs": [],
      "execution_count": null
    },
    {
      "cell_type": "code",
      "source": "#'closing' lid\nsvg =svgRoot+rootGopen\nN=margin+bw+2+dw+1+n #N                 KK                  A           B           Z                 Y                  N\noutside_d=f'M{N},{N}     h-{N-margin}       v{mw+n+1+n+bw}     h{size}    v-{size}    h-{bw+n+1+n+mw}    v{bw+2+dw+1+n}'\noutside_d=re.sub(\"\\s+\",\" \",outside_d)\nsvg+=f'  <path{cutStyle} d=\"{outside_d}\"/>\\n'\n#                         I                          E F J I\ninside_d=f'M{margin+bw+2+dw+1+n+mw},{margin+bw+2+dw+1+n+mw}   v{n+1} h{n+1} v-{n+1} h-{n+1}'\ninside_d=re.sub(\"\\s+\",\" \",inside_d)\nsvg+=f'  <path{cutStyle} d=\"{inside_d}\"/>\\n'\nsvg+=\"</g>\"\n\nsvg+=f'  <g{textStyle} transform=\"translate({0.5+dx},{vBsize-(0.5+dy)})\"><!-- y=vBsize-myY -->\\n'\ncenter=margin+size-(mw+n+1+n+bw+dw)/2\nsvg+=write(center,margin+size-(n+bw)/2+0.5,\"KEERSOMMEN met gevoel\")\nsvg+=write(center,margin+size-(n+bw)/2-1,\"Roos &amp; Ruud\")\nsvg+=f'<image x=\"{margin}\" y=\"-{size}\" width=\"{n+1+dw+2+mw}\" height=\"{n+1+dw+2+mw}\" href=\"https://upload.wikimedia.org/wikipedia/commons/d/d3/Black_and_White_Cat_Sketch.svg\" />\\n'\nlevel=margin+(mw+bw+dw+3+n)/2\nsvg+=write(center,level+2.5,\"Getal én aantal,\")\nsvg+=write(center,level+1.5,\"zichtbaar in som.\")\nsvg+=write(center,level,\"Ontwerp variant\")\nsvg+=write(center,level-1,\"via edu.nl/...\")\nsvg+=write(center,level-2.5,\" Voor ❀ met ♡\")\nsvg+='</g>\\n\\n</svg>'\noutput(\"lid\",svg) # You might need a mask here, or some fill rule, just try with a background",
      "metadata": {
        "trusted": true,
        "tags": [],
        "editable": true,
        "slideshow": {
          "slide_type": ""
        }
      },
      "outputs": [],
      "execution_count": null
    },
    {
      "cell_type": "code",
      "source": "# stack 'm. #todo: parametrize # for moving \nsvg=\"\"\"\n<svg xmlns=\"http://www.w3.org/2000/svg\" preserveAspectRatio=\"xMidYMid\" width=\"380\" height=\"380\" overflow=\"visible\" viewBox=\"0 0 380 380\">\n    <image href=\"bottom_keersommen.svg\" width=\"380\"/>\n\n    <g id=\"slide_down\" transform=\"translate(0,2)\"><image href=\"slider_keersommen.svg\" width=\"380\"/></g>\n    <image href=\"border_keersommen.svg\" width=\"380\"/>\n\n    <g transform=\"matrix(0,-1,-1,0,380,380)\">          <!-- I need to move part of this left -->\n        <g id=\"slide_right\" transform=\"translate(0,2)\"><image href=\"slider_keersommen.svg\" width=\"380\"/></g>\n        <image href=\"border_keersommen.svg\" width=\"380\"/>\n    </g>\n    \n    <image href=\"lid_keersommen.svg\" width=\"380\"/>\n</svg>\"\"\"\noutput(\"stacked\",svg)",
      "metadata": {
        "trusted": true
      },
      "outputs": [],
      "execution_count": null
    }
  ]
}
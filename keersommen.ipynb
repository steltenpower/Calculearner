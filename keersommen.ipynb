{
  "metadata": {
    "kernelspec": {
      "name": "python",
      "display_name": "Python (Pyodide)",
      "language": "python"
    },
    "language_info": {
      "codemirror_mode": {
        "name": "python",
        "version": 3
      },
      "file_extension": ".py",
      "mimetype": "text/x-python",
      "name": "python",
      "nbconvert_exporter": "python",
      "pygments_lexer": "ipython3",
      "version": "3.8"
    }
  },
  "nbformat_minor": 4,
  "nbformat": 4,
  "cells": [
    {
      "cell_type": "markdown",
      "source": "MULTIPLYING MACHINE:\nUpload this file and PLAY its cells at https://jupyterlite.github.io/demo/lab/index.html\nPrint black, cut red, glue borders on top of each other.\n\ntodo:\n- stack.svg (includes masking) \n- make shifters interactive, through arrow keys\n- Don't do 0..n but -m..n\nboth x and y will then look like https://raw.githubusercontent.com/steltenpower/ElementarySchoolGimmicks/master/IMG_20230328_233125596.jpg\nThe blocking of + and - icons depicting xy should be n wide on x and n high on y",
      "metadata": {
        "jp-MarkdownHeadingCollapsed": true
      }
    },
    {
      "cell_type": "code",
      "source": "########## configure, style, output() ###########\nn=3\nbw,dw,mw,margin=1,1,1,1 # see drawing in other cell\nsvgWidth,svgHeight=400,400\ncutStyle=' stroke=\"red\" stroke-width=\"0.1\" fill=\"none\"'\n\ntextAnchor=\"middle\"# text-anchor: start | middle | end\nalignmentBaseline=\"middle\" # alignment-baseline: auto | baseline | before-edge | text-before-edge | middle | central | after-edge | text-after-edge | ideographic | alphabetic | hanging | mathematical | top | center | bottom\nfontFamily=\"Courier\" #font-family \nfontSize=\"0.7\" #font-size\nletterSpacing=\"-0.1\" # letter-spacing\ntextAlign=f' text-anchor=\"{textAnchor}\" alignment-baseline=\"{alignmentBaseline}\"'\nfont=f' font-family=\"{fontFamily}\" font-size=\"{fontSize}\" letter-spacing=\"{letterSpacing}\"'\ntextStyle=textAlign+font\n\nfrom IPython.display import HTML\nfrom IPython.display import display\ndef output(id,svg):\n    file_object = open(f'z{id}keersommen.svg','w')\n    file_object.write(svgDocType+svg)\n    file_object.close()\n    display(HTML(f'<html><body>{svg}</body></html>'))\n    \nprint(\"dimensions, style and output() defined\")",
      "metadata": {
        "trusted": true,
        "scrolled": true
      },
      "outputs": [
        {
          "name": "stdout",
          "text": "dimensions, style and output() defined\n",
          "output_type": "stream"
        }
      ],
      "execution_count": 1
    },
    {
      "cell_type": "code",
      "source": "#OLD cs\ncs={} ######### build Coordinate System #########\ncs[\"Dx\"],cs[\"Dy\"]=0.5,0.5\ncs[\"dx\"],cs[\"dy\"]=-0.05,-0.2\nn1=n+1\ncs[\"margin\"]=1 # on top, left, right and bottom\ncs[\"bottomLeft_my\"]=-(cs[\"margin\"]+(4+n1))\ncs[\"screen_bottom_myY\"]=cs[\"bottomLeft_my\"]\ncs[\"screen_left_myX\"]=cs[\"bottomLeft_my\"]\ncs[\"topRight_my\"]=2*n1+cs[\"margin\"]\ncs[\"screen_top_myY\"]=cs[\"topRight_my\"]\ncs[\"screen_right_myX\"]=cs[\"topRight_my\"]\ncs[\"vBwidth\"]=cs[\"screen_right_myX\"]-cs[\"screen_left_myX\"]\ncs[\"vBheight\"]=cs[\"vBwidth\"]\ncs[\"vBxMin\"]=cs[\"screen_left_myX\"]\ncs[\"vByMin\"]=-cs[\"screen_top_myY\"] # with myY_origin and svgY_origin matching: screen_bottom_myY,0,screen_top_myY (upwards) gives -screen_top_myY,0,-screen_bottom_myY (downwards)\n\nsvgDocType ='<?xml version=\"1.0\" standalone=\"no\"?>\\n'\nsvgDocType+='<!DOCTYPE svg PUBLIC \"-//W3C//DTD SVG 1.1//EN\" \"http://www.w3.org/Graphics/SVG/1.1/DTD/svg11.dtd\">\\n'\nsvgRoot ='<svg xmlns=\"http://www.w3.org/2000/svg\" preserveAspectRatio=\"xMidYMid\"'\nsvgRoot+=f' width=\"{svgWidth}\" height=\"{svgHeight}\"'\nsvgRoot+=f' viewBox=\"{cs[\"vBxMin\"]} {cs[\"vByMin\"]} {cs[\"vBwidth\"]} {cs[\"vBheight\"]}\" transform=\"scale(1,-1)\">\\n'\n\nprint(\"OLD: coordinate system built\")",
      "metadata": {
        "trusted": true,
        "scrolled": true
      },
      "outputs": [
        {
          "name": "stdout",
          "text": "OLD: coordinate system built\n",
          "output_type": "stream"
        }
      ],
      "execution_count": 13
    },
    {
      "cell_type": "code",
      "source": "#NEW cs\n######## build Coordinate System #########\nDx,Dy=0.5,0.5\ndx,dy=-0.05,-0.2\nmargin=1 # on top, left, right and bottom\nsize=bw+2+dw+1+n+mw+n+1+n+bw\nvBsize=margin+size+margin\n\nsvgDocType ='<?xml version=\"1.0\" encoding=\"UTF-8\" standalone=\"no\"?>\\n'\nsvgDocType+='<!DOCTYPE svg PUBLIC \"-//W3C//DTD SVG 1.1//EN\" \"http://www.w3.org/Graphics/SVG/1.1/DTD/svg11.dtd\">\\n'\nsvgRoot ='<svg xmlns=\"http://www.w3.org/2000/svg\" preserveAspectRatio=\"xMidYMid\"'\nsvgRoot+=f' width=\"{svgWidth}\" height=\"{svgHeight}\"'\nsvgRoot+=f' viewBox=\"0 0 {vBsize} {vBsize}\" overflow=\"visible\">\\n'\nrootGopen=f'<g transform=\"matrix(1,0,0,-1,0,{vBsize})\">\\n'\n\nprint(\"NEW: coordinate system built\")",
      "metadata": {
        "trusted": true,
        "scrolled": true
      },
      "outputs": [
        {
          "name": "stdout",
          "text": "NEW: coordinate system built\n",
          "output_type": "stream"
        }
      ],
      "execution_count": 2
    },
    {
      "cell_type": "code",
      "source": "#OLD z0\ndef num(i):\n    return str(i)   #x numbers  # i = int(s, 16) # hex, binary, octal\ndef write(x,y,char):\n    return f'    <text x=\"{x}\" y=\"{-y}\">{char}</text>\\n'\ndef dot(x,y,ij):\n    if (ij>0):\n        result=write(x,y,\"➕\") # 💩⊕\n    elif (ij<0):\n        result=write(x,y,\"➖\") # ⊖\n    else:\n        result=\"\"\n    return result\n\nsvg =svgRoot+'  <rect width=\"1\" height=\"1\" fill=\"none\" stroke=\"black\" stroke-width=\"0.05\"/>\\n' # to check if lines and numbers are aligned\nsvg+=f'  <path{cutStyle} d=\"M-{n1},-{n1+4} h{3*n1} v{3*n1+4} h-{3*n1+4} v-{3*n1} h4 v-4\"/>\\n' \nsvg+=f'<g transform=\"scale(1,-1)translate({cs[\"Dx\"]+cs[\"dx\"]},{-(cs[\"Dy\"]+cs[\"dy\"])})\"{textStyle}>\\n'\nfor i in range(0,n1): # OO+0.5,0.5\n    svg+=dot(-n1+i,-n1-3,i)         # x dots v-2-dw +i,0\n    svg+=dot(-n1-3,-n1+i,i)         # y dots h-2-dw 0,+i\n    svg+=write(-n1+i,-n1-2,num(i))  # x nums v-1-dw +i,0\n    svg+=write(-n1-2,-n1+i,num(i))  # y nums h-1-dw 0,+i\n    svg+=\"\\n\"\n    for j in range(0,n1):\n        svg+=dot(-n1+i,-n1+j,i*j)   # xy dots  <l0,0>  i,j\n        svg+=write(i,j,num(i*j))    # xy numbs  ln+1+mw,n+1+mw  i,j  \nsvg+='</g>\\n\\n\\n</svg>'\noutput(\"OLD0\",svg)",
      "metadata": {
        "trusted": true,
        "tags": [],
        "editable": true,
        "slideshow": {
          "slide_type": ""
        }
      },
      "outputs": [
        {
          "output_type": "display_data",
          "data": {
            "text/plain": "<IPython.core.display.HTML object>",
            "text/html": "<html><body><svg xmlns=\"http://www.w3.org/2000/svg\" preserveAspectRatio=\"xMidYMid\" width=\"400\" height=\"400\" viewBox=\"-9 -9 18 18\" transform=\"scale(1,-1)\">\n  <rect width=\"1\" height=\"1\" fill=\"none\" stroke=\"black\" stroke-width=\"0.05\"/>\n  <path stroke=\"red\" stroke-width=\"0.1\" fill=\"none\" d=\"M-4,-8 h12 v16 h-16 v-12 h4 v-4\"/>\n<g transform=\"scale(1,-1)translate(0.45,-0.3)\" text-anchor=\"middle\" alignment-baseline=\"middle\" font-family=\"Courier\" font-size=\"0.7\" letter-spacing=\"-0.1\">\n    <text x=\"-4\" y=\"6\">0</text>\n    <text x=\"-6\" y=\"4\">0</text>\n\n    <text x=\"0\" y=\"0\">0</text>\n    <text x=\"0\" y=\"-1\">0</text>\n    <text x=\"0\" y=\"-2\">0</text>\n    <text x=\"0\" y=\"-3\">0</text>\n    <text x=\"-3\" y=\"7\">➕</text>\n    <text x=\"-7\" y=\"3\">➕</text>\n    <text x=\"-3\" y=\"6\">1</text>\n    <text x=\"-6\" y=\"3\">1</text>\n\n    <text x=\"1\" y=\"0\">0</text>\n    <text x=\"-3\" y=\"3\">➕</text>\n    <text x=\"1\" y=\"-1\">1</text>\n    <text x=\"-3\" y=\"2\">➕</text>\n    <text x=\"1\" y=\"-2\">2</text>\n    <text x=\"-3\" y=\"1\">➕</text>\n    <text x=\"1\" y=\"-3\">3</text>\n    <text x=\"-2\" y=\"7\">➕</text>\n    <text x=\"-7\" y=\"2\">➕</text>\n    <text x=\"-2\" y=\"6\">2</text>\n    <text x=\"-6\" y=\"2\">2</text>\n\n    <text x=\"2\" y=\"0\">0</text>\n    <text x=\"-2\" y=\"3\">➕</text>\n    <text x=\"2\" y=\"-1\">2</text>\n    <text x=\"-2\" y=\"2\">➕</text>\n    <text x=\"2\" y=\"-2\">4</text>\n    <text x=\"-2\" y=\"1\">➕</text>\n    <text x=\"2\" y=\"-3\">6</text>\n    <text x=\"-1\" y=\"7\">➕</text>\n    <text x=\"-7\" y=\"1\">➕</text>\n    <text x=\"-1\" y=\"6\">3</text>\n    <text x=\"-6\" y=\"1\">3</text>\n\n    <text x=\"3\" y=\"0\">0</text>\n    <text x=\"-1\" y=\"3\">➕</text>\n    <text x=\"3\" y=\"-1\">3</text>\n    <text x=\"-1\" y=\"2\">➕</text>\n    <text x=\"3\" y=\"-2\">6</text>\n    <text x=\"-1\" y=\"1\">➕</text>\n    <text x=\"3\" y=\"-3\">9</text>\n</g>\n\n\n</svg></body></html>"
          },
          "metadata": {}
        }
      ],
      "execution_count": 14
    },
    {
      "cell_type": "code",
      "source": "#NEW z0\nimport re    \ndef num(i):\n    return str(i)   #x numbers  # i = int(s, 16) # hex, binary, octal\ndef write(x,y,char):\n    return f'      <text x=\"{x}\" y=\"-{y}\">{char}</text>\\n' # -y\ndef dot(x,y,ij):\n    if (ij>0):\n        result=write(x,y,\"➕\") # 💩⊕\n    elif (ij<0):\n        result=write(x,y,\"➖\") # ⊖\n    else:\n        result=\"\"\n    return result\nI=margin+bw+2+dw+1+n+mw\nsvg =svgRoot+rootGopen+f'  <rect x=\"{I}\" y=\"{I}\" width=\"1\" height=\"1\" fill=\"none\" stroke=\"black\" stroke-width=\"0.05\"/>\\n' # to check if lines and numbers are aligned\nOO=margin+bw+2+dw\n#       OO=v-(dw+2+bw)=X=h(1+n+mw+n+1+n+bw)=Z=v(bw+2+dw+1+n+mw+n+1+n+bw)=B=h-(bw+n+1+n+mw+n+1+dw+2+bw)=A=v-(bw+n+1+n+mw+n+1)=U=h(bw+2+dw)=OO\nd_move = f'M{OO},{OO}'\nd_draws=f' v-{dw+2+bw}   h{1+n+mw+n+1+n+bw}   v{size}                      h-{size}                      v-{bw+n+1+n+mw+n+1} z'\nd_draws=re.sub(\"\\s+\",\" \",d_draws)\nsvg+=f'  <path{cutStyle} d=\"{d_move+d_draws}\"/>\\n' \nsvg+='</g>\\n'\n\nsvg+=f'  <g{textStyle} transform=\"translate({OO+0.5+dx},{vBsize-(OO+0.5+dy)})\"><!-- y=vBsize-myY -->\\n'\nsvg+=f'    <g transform=\"translate(0,{2+dw})\"><!-- this and following groups of text have y turned into -y -->\\n'\nfor i in range(0,n+1):\n    svg+=dot(i,0,i)         # x dots\nsvg+=\"    </g>\\n\"\n\nsvg+=f'    <g transform=\"translate(0,{1+dw})\">\\n'\nfor i in range(0,n+1):\n    svg+=write(i,0,num(i))  # x nums\nsvg+=\"    </g>\\n\"\n\nsvg+=f'    <g transform=\"translate(-{2+dw},0)\">\\n'\nfor i in range(0,n+1):\n    svg+=dot(0,i,i)         # y dots\nsvg+=\"    </g>\\n\"\n\nsvg+=f'    <g transform=\"translate(-{1+dw},0)\">\\n'\nfor i in range(0,n+1):\n    svg+=write(0,i,num(i))  # y nums\nsvg+=\"    </g>\\n\"\n\nsvg+='    <g>\\n'\nfor i in range(0,n+1):\n    for j in range(0,n+1):\n        svg+=dot(i,j,i*j)   # xy dots\nsvg+='    </g>\\n'\n\nsvg+=f'    <g transform=\"translate({n+1+mw},-{n+1+mw})\">\\n'\nfor i in range(0,n+1):\n    for j in range(0,n+1):\n        svg+=write(i,j,num(i*j))    # xy nums\nsvg+='    </g>\\n'\n\nsvg+=\"  </g>\\n\"\n\nsvg+='\\n</svg>'\n\noutput(\"NEW0\",svg)",
      "metadata": {
        "trusted": true,
        "tags": [],
        "editable": true,
        "slideshow": {
          "slide_type": ""
        }
      },
      "outputs": [
        {
          "output_type": "display_data",
          "data": {
            "text/plain": "<IPython.core.display.HTML object>",
            "text/html": "<html><body><svg xmlns=\"http://www.w3.org/2000/svg\" preserveAspectRatio=\"xMidYMid\" width=\"400\" height=\"400\" viewBox=\"0 0 19 19\" overflow=\"visible\">\n<g transform=\"matrix(1,0,0,-1,0,19)\">\n  <rect x=\"10\" y=\"10\" width=\"1\" height=\"1\" fill=\"none\" stroke=\"black\" stroke-width=\"0.05\"/>\n  <path stroke=\"red\" stroke-width=\"0.1\" fill=\"none\" d=\"M5,5 v-4 h13 v17 h-17 v-13 z\"/>\n</g>\n  <g text-anchor=\"middle\" alignment-baseline=\"middle\" font-family=\"Courier\" font-size=\"0.7\" letter-spacing=\"-0.1\" transform=\"translate(5.45,13.7)\"><!-- y=vBsize-myY -->\n    <g transform=\"translate(0,3)\"><!-- this and following groups of text have y turned into -y -->\n      <text x=\"1\" y=\"-0\">➕</text>\n      <text x=\"2\" y=\"-0\">➕</text>\n      <text x=\"3\" y=\"-0\">➕</text>\n    </g>\n    <g transform=\"translate(0,2)\">\n      <text x=\"0\" y=\"-0\">0</text>\n      <text x=\"1\" y=\"-0\">1</text>\n      <text x=\"2\" y=\"-0\">2</text>\n      <text x=\"3\" y=\"-0\">3</text>\n    </g>\n    <g transform=\"translate(-3,0)\">\n      <text x=\"0\" y=\"-1\">➕</text>\n      <text x=\"0\" y=\"-2\">➕</text>\n      <text x=\"0\" y=\"-3\">➕</text>\n    </g>\n    <g transform=\"translate(-2,0)\">\n      <text x=\"0\" y=\"-0\">0</text>\n      <text x=\"0\" y=\"-1\">1</text>\n      <text x=\"0\" y=\"-2\">2</text>\n      <text x=\"0\" y=\"-3\">3</text>\n    </g>\n    <g>\n      <text x=\"1\" y=\"-1\">➕</text>\n      <text x=\"1\" y=\"-2\">➕</text>\n      <text x=\"1\" y=\"-3\">➕</text>\n      <text x=\"2\" y=\"-1\">➕</text>\n      <text x=\"2\" y=\"-2\">➕</text>\n      <text x=\"2\" y=\"-3\">➕</text>\n      <text x=\"3\" y=\"-1\">➕</text>\n      <text x=\"3\" y=\"-2\">➕</text>\n      <text x=\"3\" y=\"-3\">➕</text>\n    </g>\n    <g transform=\"translate(5,-5)\">\n      <text x=\"0\" y=\"-0\">0</text>\n      <text x=\"0\" y=\"-1\">0</text>\n      <text x=\"0\" y=\"-2\">0</text>\n      <text x=\"0\" y=\"-3\">0</text>\n      <text x=\"1\" y=\"-0\">0</text>\n      <text x=\"1\" y=\"-1\">1</text>\n      <text x=\"1\" y=\"-2\">2</text>\n      <text x=\"1\" y=\"-3\">3</text>\n      <text x=\"2\" y=\"-0\">0</text>\n      <text x=\"2\" y=\"-1\">2</text>\n      <text x=\"2\" y=\"-2\">4</text>\n      <text x=\"2\" y=\"-3\">6</text>\n      <text x=\"3\" y=\"-0\">0</text>\n      <text x=\"3\" y=\"-1\">3</text>\n      <text x=\"3\" y=\"-2\">6</text>\n      <text x=\"3\" y=\"-3\">9</text>\n    </g>\n  </g>\n\n</svg></body></html>"
          },
          "metadata": {}
        }
      ],
      "execution_count": 10
    },
    {
      "cell_type": "code",
      "source": "#OLD z1and2\nslider =f'    <path{cutStyle} d=\"M0,0 h{n1} v{n} h-{n1} v1 h{n1} m0,-1 v{n1} h-{2*n1+3}' \nslider+=f' v-{n+n1} h2 v-1 h-1 v-{n+4} h1 v{4+n1-2} h1 v2 h{n1}\"/>\\n' # add a semi-transparent fill\nborderCuts =f'   <path{cutStyle} d=\"M0,0 h{n1} v-{n} h-{n1} v-5 h{2*n1} v{3*n1+4}' # \nborderCuts+=f' h-{3*n1+4} v-{3*n1} h2 m0,1 h-1 v{n}\"/>\\n'\nsvg=svgRoot\nsvg+=slider+borderCuts\nsvg+='</g>\\n\\n</svg>'\noutput(\"OLD1and2\",svg) # in stack.svg call it like this PLUS again within <g transform=\"matrix(0,1,1,0,0,0)\">",
      "metadata": {
        "trusted": true,
        "scrolled": true
      },
      "outputs": [],
      "execution_count": null
    },
    {
      "cell_type": "raw",
      "source": "       borderb     input i     area       n+1          a     output    n+1           o          n+bw         max\n       l     r     l     r     l                       r     l                       r                       x\n---  btA  bw = ----2---- = dw  * -1- = -------n------- * mw  * -------n------- = -1- = -------n------- = bw  B A=bl,bt B=mx,bt\nbw     |     .     .     .     .     .     .     .     .     .     .     .     .     .     .     .     .     |\n---  bb|  .  C-----------------------------------------------------------------------D  .  .  .  .  .  /  .  | C=br,bb D=or,bb\n       1     |     .     .     .     .     .     .     .     .  #     #     #     #  |     .     .     .     | \n       |  .  |  .  .  .  .  .  .  .  .  .  .  .  .  .  .  .  .                       |  .  .  .  /  .  .  .  | \nn      1     |     .     .     .     .     .     .     .     .  #     #     #     #  |     .     .     .     | \n       |  .  |  .  .  .  .  .  .  .  .  .  .  .  .  .  .  .  .                       |  .  /  .  .  .  .  .  |\n       1     |     .     .     .     .     .     .     .     .  #     #     #     #  |     .     .     .     |\n---  ot*  .  |  .  .  .  .  .  .  .  .  .  .  .  .  .  .  .  E-----------------------F  .  .  .  .  .  .  .  | E=ol,ot F=or,ot \n1      1     |     .     .     .     .     .     .     .     |  0     3     6     9  |     .     .     .     | \n---  om|  .  |  .  .  .  .  .  .  .  .  .  .  .  .  .  .  .  G-----------------------H  .  .  .  .  .  .  .  | G=ol,om H=or,om\n       1     |     .     .     .     .     .     .     .     .  0#    2#    4#    6# |     .     .     .     | \n       |  .  |  .  .  .  .  .  .  .  .  .  .  .  .  .  .  .  .                       |  .  .  .  .  .  .  .  | \nn      1     |  #  .  #  .     .     .  #  .  #  .  #  .     .  0#    1#    2#    3# |     .     .     .     | \n       |  .  |  .  .  .  .  .  .  .  .  .  .  .  .  .  .  .  .                       |  .  .  .  .  .  .  .  | \n       1     |  #  .  #  .     .     .  #  .  #  .  #  .     .  0#    0#    0#    0# |     .     .     .     | \n---  ob*  .  |  .  .  .  .  .  .  .  .  .  .  .  .  .  .  .  I-----------------------J  .  .  .  .  .  .  .  | I=ol,ob J=or,ob\nmw,mid |     |  #  .  #  .     .     .  #  .  #  .  #  .  /                          |     .     .     .     | \n---  at*  .  K-----------L  .  M-----------------------N           .     .     .     |  .  .  .  .  .  .  .  | K=br,at L=ir,at M=al,at N=ar,at \n       1     |  X     3  |     |  _     X     X     X                                |     .     .     .     | \n     ib|  .  |     O-----P     |                                   .     .     .     |  .  .  .  .  .  .  .  | O=il,ib P=ir,ib\nn      1     |  X  |  2#       |  _     X     X     X                                |     .     .     .     | \nhole oh|  .  |     |           |                             Q-----------------------R  .  .  .  .  .  .  .  | Q=ol,oh R=or,oh\ncount  1     |  X  |  1#       |  _     X     X     X     /  .     .     .     .     .     .     .     .     | \n---  cb|  .  S-----T           |                       QQ .  .  .  .  .  .  .  .  .  .  .  .  .  .  .  .  .  | S=br,lb T=il,lb QQ=\n1      1     .  d  |  0#       |  _     _     _     _  |     .     .     .     .     .     .     .     .     | \n---  abU-----------V          OO                       |  .  .  .  .  .  .  .  .  .  .  .  .  .  .  .  .  .  | U=bl,ab V=il,ab _O=al,ab\ndw                 |           |                       |     .     .     .     .     .     .     .     .     | \n---                |           |                       |  .  .  .  .  .  .  .  .  .  .  .  .  .  .  .  .  .  |\n                   |           |  0     1     2     3  |     .     .     .     .     .     .     .     .     |\n2                  /           |                       |  .  .  .  .  .  .  .  .  .  .  .  .  .  .  .  .  .  |\n                   |           |  d     X     X     X  |     .     .     .     .     .     .     .     .     |\n---                |           |                       |  .  .  .  .  .  .  .  .  .  .  .  .  .  .  .  .  .  |\nbw                 |           |                       |     .     .     .     .     .     .     .     .     |\n---  og origin     W-----------X                       Y-----------------------------------------------------Z  W=il,og X=al,og Y=ar,og Z=mx,og",
      "metadata": {
        "tags": [],
        "editable": true,
        "slideshow": {
          "slide_type": ""
        },
        "raw_mimetype": ""
      }
    },
    {
      "cell_type": "code",
      "source": "#NEW z1and2\n\nd_move = f'M{bw},{size-bw}' #C\n#      C= v-(n+1+n+mw) =K= h() =L= v-1 =P= h-1 =O= v-(n-1+1+dw+2+bw) =W= h(1+dw) =X= v(bw+2+dw+1+n) =M= h(1+n) =N= l(mw),(mw) =I= h(n+1) =J= v(n) =H= h-(1+n) =G= v1 =E= h(n+1) =F= vn =D= h-(1+n+mw+n+1+dw+2) =C\nd_draws=f'v-{n+1+n+mw}     h2      v-1     h-1     v-{n-1+1+dw+2+bw}     h{1+dw}     v{bw+2+dw+1+n}     h{1+n}     l{mw},{mw}     h{n+1}     v{n}     h-{1+n}     v1     h{n+1}     v{n} z'\nd_draws=re.sub(\"\\s+\",\" \",d_draws)\nslider=f'  <path{cutStyle} d=\"{d_move+d_draws}\"/>\\n' \n# add 2 types of fill: view-blocking vs structural-only\n\n# border= # A=v-(bw+n+1+n+mw+n+1)=U=h(bw+1)=V-v1-T=h-1=S=v(n)=K-v(mw+n+1+n+bw)-C-h(2+dw+1+n+mw+n+1+n+bw)-D-v-(n)-F=v-1=H-v-(n)-J=v-(n)=R=h-(1+n)=Q=l-(mw),-(mw)=QQ=v-(1+dw+2+bw)=Y=h(mw+n+1+n+bw)=Z=v(bw+2+dw+1+n+mw+n+1+n+bw)=B=h-(bw+n+1+n+mw+n+1+dw+2+bw)=A\n# d_start=A                                                    m                m                         m             m                                                                                                                                    z \n# d_move=f'   v-{bw+n+1+n+mw+n+1}   h{bw+1} m0,v1  h-1   v{n} m0,{mw+n+1+n+bw}  m-{2+dw+1+n+mw+n+1+n+bw},0 m0,-{n} v-1 m0,-{n}   v-{n}   h-{1+n}   l-{mw},-{mw}    v-{1+dw+2+bw}   h{mw+n+1+n+bw}   v{bw+2+dw+1+n+mw+n+1+n+bw} z'\n#borderCuts =f'   <path{cutStyle} d=\"M0,0 h{n1} v-{n} h-{n1} v-5 h{2*n1} v{3*n1+4}' # \n#borderCuts+=f' h-{3*n1+4} v-{3*n1} h2 m0,1 h-1 v{n}\"/>\\n'\nsvg=svgRoot+rootGopen\nsvg+=slider #+borderCuts\nsvg+='</g>\\n\\n</svg>'\noutput(\"NEW1and2\",svg) # in stack.svg call it like this PLUS again within <g transform=\"matrix(0,1,1,0,0,0)\">",
      "metadata": {
        "trusted": true,
        "tags": [],
        "editable": true,
        "slideshow": {
          "slide_type": ""
        }
      },
      "outputs": [
        {
          "output_type": "display_data",
          "data": {
            "text/plain": "<IPython.core.display.HTML object>",
            "text/html": "<html><body><svg xmlns=\"http://www.w3.org/2000/svg\" preserveAspectRatio=\"xMidYMid\" width=\"400\" height=\"400\" viewBox=\"0 0 19 19\" overflow=\"visible\">\n<g transform=\"matrix(1,0,0,-1,0,19)\">\n  <path stroke=\"red\" stroke-width=\"0.1\" fill=\"none\" d=\"M1,16v-8 h2 v-1 h-1 v-7 h2 v8 h4 l1,1 h4 v3 h-4 v1 h4 v3 z\"/>\n</g>\n\n</svg></body></html>"
          },
          "metadata": {}
        }
      ],
      "execution_count": 14
    },
    {
      "cell_type": "code",
      "source": "#OLD z3\nsvg =svgRoot\nsvg+=f'  <path{cutStyle} d=\"M0,0 v-{n1+4} h{2*n1} v{3*n1+4} h-{3*n1+4} v-{2*n1} h{n1+4} h{n1} v{n1} h-{n1} v-{n1}  \"/>\\n'\nsvg+=f'<g transform=\"translate({cs[\"Dx\"]+cs[\"dx\"]},{-(cs[\"Dy\"]+cs[\"dy\"])})\"{textStyle}>\\n'\nsvg+=write(-1.5,n+n1,\"KEERSOMMEN met gevoel, Roos &amp; Ruud\")\n# https://upload.wikimedia.org/wikipedia/commons/d/d3/Black_and_White_Cat_Sketch.svg\nsvg+=write(n1-0.5,-n1,\"Getal én aantal,\")\nsvg+=write(n1-0.5,-n1-1,\"zichtbaar in som.\")\nsvg+=write(n1-0.5,-n1-2,\"Ontwerp variant\")\nsvg+=write(n1-0.5,-n1-3,\"via edu.nl/...\")\nsvg+=write(n1-0.5,-n1-4,\"Voor ❀ met ♡\")\nsvg+='</g>\\n\\n</svg>'\noutput(\"OLD3\",svg) # You might need a mask here, or some fill rule, just try with a background",
      "metadata": {
        "trusted": true,
        "tags": [],
        "editable": true,
        "slideshow": {
          "slide_type": ""
        }
      },
      "outputs": [],
      "execution_count": null
    },
    {
      "cell_type": "code",
      "source": "#NEW z3\nsvg =svgRoot+rootGopen\nsvg+=f'  <path{cutStyle} d=\"M0,0 v-{n1+4} h{2*n1} v{3*n1+4} h-{3*n1+4} v-{2*n1} h{n1+4} h{n1} v{n1} h-{n1} v-{n1}  \"/>\\n'\nsvg+=f'<g transform=\"translate({cs[\"Dx\"]+cs[\"dx\"]},{-(cs[\"Dy\"]+cs[\"dy\"])})\"{textStyle}>\\n'\nsvg+=write(-1.5,n+n1,\"KEERSOMMEN met gevoel, Roos &amp; Ruud\")\n# https://upload.wikimedia.org/wikipedia/commons/d/d3/Black_and_White_Cat_Sketch.svg\nsvg+=write(n1-0.5,-n1,\"Getal én aantal,\")\nsvg+=write(n1-0.5,-n1-1,\"zichtbaar in som.\")\nsvg+=write(n1-0.5,-n1-2,\"Ontwerp variant\")\nsvg+=write(n1-0.5,-n1-3,\"via edu.nl/...\")\nsvg+=write(n1-0.5,-n1-4,\"Voor ❀ met ♡\")\nsvg+='</g>\\n\\n</svg>'\noutput(\"NEW3\",svg) # You might need a mask here, or some fill rule, just try with a background",
      "metadata": {
        "trusted": true
      },
      "outputs": [],
      "execution_count": null
    },
    {
      "cell_type": "raw",
      "source": "\n\n\n\n\n",
      "metadata": {}
    }
  ]
}
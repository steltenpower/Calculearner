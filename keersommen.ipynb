{
  "metadata": {
    "kernelspec": {
      "name": "python",
      "display_name": "Python (Pyodide)",
      "language": "python"
    },
    "language_info": {
      "codemirror_mode": {
        "name": "python",
        "version": 3
      },
      "file_extension": ".py",
      "mimetype": "text/x-python",
      "name": "python",
      "nbconvert_exporter": "python",
      "pygments_lexer": "ipython3",
      "version": "3.8"
    }
  },
  "nbformat_minor": 4,
  "nbformat": 4,
  "cells": [
    {
      "cell_type": "markdown",
      "source": "MULTIPLYING MACHINE:\nUpload this file and PLAY its cells at https://jupyterlite.github.io/demo/lab/index.html\nPrint black, cut red, glue borders on top of each other for bottom, 2x(slider+border) and lid\n\nstill needed for physical 'machine':\n- test if numbers are positioned right when opened in Rhino3D. Should be centered in square.\n- Some hardcoded values still present, need to be parametrized\n\nstill wanted:\n- needs a Creative Commons license\n- Make PDFs available for often used paper formats, at least in black&white\n- Add a graph paper pattern below for full manual creation (no printer/cutter)\n- Advise a minimal size depending on the thickness of the material\n- Have a description on how to laser cut it\n- Add a pattern of lines in the direction of movement, where full=mustVisuallyBlock, dashed=restOfMovingPart, dotted=border  \n- Don't do 0..n but -m..n\nboth x and y will then look like https://raw.githubusercontent.com/steltenpower/ElementarySchoolGimmicks/master/IMG_20230328_233125596.jpg\nThe blocking of + and - icons depicting xy should be n wide on x and n high on y\n\nfor software version:\n- make shifters interactive, through arrow keys and maybe swiping touch screens\n- Find a way to fix/circumvent the bug not showing the IMAGE elements, see https://github.com/jupyterlite/jupyterlite/issues/1457\n\n ",
      "metadata": {
        "jp-MarkdownHeadingCollapsed": true
      }
    },
    {
      "cell_type": "raw",
      "source": "       borderb     input i     area       n+1          a     output    n+1           o          n+bw         max\n       l     r     l     r     l                       r     l                       r                       x\n---  btA  bw = ----2---- = dw  * -1- = -------n------- * mw  * -------n------- = -1- = -------n------- = bw  B \nbw     |     .     .     .     .     .     .     .     .     .     .     .     .     .     .     .     .     |\n---  bb|  .  C-----------------------------------------------------------------------D  .  .  .  .  .  /  .  | \n       1     |     .     .     .     .     .     .     .     .  #     #     #     #  |     .     .     .     | \n       |  .  |  .  .  .  .  .  .  .  .  .  .  .  .  .  .  .  .                       |  .  .  .  /  .  .  .  | \nn      1     |     .     .     .     .     .     .     .     .  #     #     #     #  |     .     .     .     | \n       |  .  |  .  .  .  .  .  .  .  .  .  .  .  .  .  .  .  .                       |  .  /  .  .  .  .  .  |\n       1     |     .     .     .     .     .     .     .     .  #     #     #     #  |     .     .     .     |\n---  ot*  .  |  .  .  .  .  .  .  .  .  .  .  .  .  .  .  .  E-----------------------F  .  .  .  .  .  .  .  | \n1      1     |     .     .     .     .     .     .     .     |  0     3     6     9  |     .     .     .     | \n---  om|  .  |  .  .  .  .  .  .  .  .  .  .  .  .  .  .  .  G-----------------------H  .  .  .  .  .  .  .  | \n       1     |     .     .     .     .     .     .     .     .  0#    2#    4#    6# |     .     .     .     | \n       |  .  |  .  .  .  .  .  .  .  .  .  .  .  .  .  .  .  .                       |  .  .  .  .  .  .  .  | \nn      1     |  #  .  #  .     .     .  #  .  #  .  #  .     .  0#    1#    2#    3# |     .     .     .     | \n       |  .  |  .  .  .  .  .  .  .  .  .  .  .  .  .  .  .  .                       |  .  .  .  .  .  .  .  | \n       1     |  #  .  #  .     .     .  #  .  #  .  #  .     .  0#    0#    0#    0# |     .     .     .     | \n---  ob*  .  |  .  .  .  .  .  .  .  .  .  .  .  .  .  .  .  I-----------------------J  .  .  .  .  .  .  .  | \nmw,mid |     |  #  .  #  .     .     .  #  .  #  .  #  .  /                          |     .     .     .     | \n--- at KK .  K-----------L  .  M-----------------------N           .     .     .     |  .  .  .  .  .  .  .  | \n       1     |  X     3  |     |  _     X     X     X                                |     .     .     .     | \n     ib|  .  |     O-----P     |                                   .     .     .     |  .  .  .  .  .  .  .  | \nn      1     |  X  |  2#       |  _     X     X     X                                |     .     .     .     | \nhole oh|  .  |     |           |                             Q-----------------------R  .  .  .  .  .  .  .  | \ncount  1     |  X  |  1#       |  _     X     X     X     /  .     .     .     .     .     .     .     .     | \n---  cb|  .  S-----T           |                       QQ .  .  .  .  .  .  .  .  .  .  .  .  .  .  .  .  .  | \n1      1     .  d  |  0#       |  _     _     _     _  |     .     .     .     .     .     .     .     .     | \n---  abU-----------V          OO                       |  .  .  .  .  .  .  .  .  .  .  .  .  .  .  .  .  .  | \ndw                 |           |                       |     .     .     .     .     .     .     .     .     | \n---                |           |                       |  .  .  .  .  .  .  .  .  .  .  .  .  .  .  .  .  .  |\n                   |           |  0     1     2     3  |     .     .     .     .     .     .     .     .     |\n2                  /           |                       |  .  .  .  .  .  .  .  .  .  .  .  .  .  .  .  .  .  |\n                   |           |  d     X     X     X  |     .     .     .     .     .     .     .     .     |\n---                |           |                       |  .  .  .  .  .  .  .  .  .  .  .  .  .  .  .  .  .  |\nbw                 |           |                       |     .     .     .     .     .     .     .     .     |\n---  og origin     W-----------X                       Y-----------------------------------------------------Z \n\neasy copy-paste:\nx,y: 0       margin+bw+2+dw+1+n+mw+n+1+n+bw+margin   vBsize\nx,y: vBsize  margin+bw+n+1+n+mw+n+1+dw+2+bw+margin   vBsize\n             margin     +     size     +    margin",
      "metadata": {
        "tags": [],
        "editable": true,
        "slideshow": {
          "slide_type": ""
        },
        "raw_mimetype": ""
      }
    },
    {
      "cell_type": "code",
      "source": "########## configuration and generic stuff ###########\nn=3\nbw,dw,mw,margin=1,1,1,1 # see drawing in other cell\nsvgWidth,svgHeight=380,380\ncutStyle=' stroke=\"red\" stroke-width=\"0.1\" fill=\"none\"'\n\ntextAnchor=\"middle\"# text-anchor: start | middle | end\nalignmentBaseline=\"middle\" # alignment-baseline: auto | baseline | before-edge | text-before-edge | middle | central | after-edge | text-after-edge | ideographic | alphabetic | hanging | mathematical | top | center | bottom\nfontFamily=\"Courier\" #font-family \nfontSize=\"0.7\" #font-size\nletterSpacing=\"-0.1\" # letter-spacing\ntextAlign=f' text-anchor=\"{textAnchor}\" alignment-baseline=\"{alignmentBaseline}\"'\nfont=f' font-family=\"{fontFamily}\" font-size=\"{fontSize}\" letter-spacing=\"{letterSpacing}\"'\ntextStyle=textAlign+font\n\nfrom IPython.display import HTML\nfrom IPython.display import display\ndef output(id,svg):\n    file_object = open(f'{id}_Ksom.svg','w')\n    file_object.write(svgDocType+svg)\n    file_object.close()\n    display(HTML(f'<html><body>{svg}</body></html>'))\n    \nDx,Dy=0.5,0.5\ndx,dy=-0.05,-0.2\nmargin=1 # on top, left, right and bottom\nsize=bw+2+dw+1+n+mw+n+1+n+bw\nvBsize=margin+size+margin\n\nsvgDocType ='<?xml version=\"1.0\" encoding=\"UTF-8\" standalone=\"no\"?>\\n'\nsvgDocType+='<!DOCTYPE svg PUBLIC \"-//W3C//DTD SVG 1.1//EN\" \"http://www.w3.org/Graphics/SVG/1.1/DTD/svg11.dtd\">\\n'\nsvgRoot ='<svg xmlns=\"http://www.w3.org/2000/svg\" preserveAspectRatio=\"xMidYMid\"'\nsvgRoot+=f' width=\"{svgWidth}\" height=\"{svgHeight}\"'\nsvgRoot+=f' viewBox=\"0 0 {vBsize} {vBsize}\" overflow=\"visible\">\\n'\nrootGopen=f'<g transform=\"matrix(1,0,0,-1,0,{vBsize})\">\\n'\n\nprint(\"configuration done\")",
      "metadata": {
        "trusted": true,
        "scrolled": true
      },
      "outputs": [
        {
          "name": "stdout",
          "text": "configuration done\n",
          "output_type": "stream"
        }
      ],
      "execution_count": 1
    },
    {
      "cell_type": "code",
      "source": "#foundation layer\nimport re    \ndef num(i):\n    return str(i)   #x numbers  # i = int(s, 16) # hex, binary, octal\ndef write(x,y,char):\n    return f'      <text x=\"{x}\" y=\"-{y}\">{char}</text>\\n' # -y\ndef dot(x,y,ij):\n    if (ij>0):\n        result=write(x,y,\"➕\") # 💩⊕\n    elif (ij<0):\n        result=write(x,y,\"➖\") # ⊖\n    else:\n        result=\"\"\n    return result\nI=margin+bw+2+dw+1+n+mw\nsvg =svgRoot+rootGopen+f'  <rect x=\"{I}\" y=\"{I}\" width=\"1\" height=\"1\" fill=\"none\" stroke=\"black\" stroke-width=\"0.05\"/>\\n' # to check if lines and numbers are aligned\nOO=margin+bw+2+dw\n#       OO=v-(dw+2+bw)=X=h(1+n+mw+n+1+n+bw)=Z=v(bw+2+dw+1+n+mw+n+1+n+bw)=B=h-(bw+n+1+n+mw+n+1+dw+2+bw)=A=v-(bw+n+1+n+mw+n+1)=U=h(bw+2+dw)=OO\nd_move = f'M{OO},{OO}'\nd_draws=f' v-{dw+2+bw}   h{1+n+mw+n+1+n+bw}   v{size}                      h-{size}                      v-{bw+n+1+n+mw+n+1} z'\nd_draws=re.sub(r\"\\s+\",\" \",d_draws)\nsvg+=f'  <path{cutStyle} d=\"{d_move+d_draws}\"/>\\n' \nsvg+='</g>\\n'\n\nsvg+=f'  <g{textStyle} transform=\"translate({OO+0.5+dx},{vBsize-(OO+0.5+dy)})\"><!-- y=vBsize-myY -->\\n'\nsvg+=f'    <g transform=\"translate(0,{2+dw})\"><!-- this and following groups of text have y turned into -y -->\\n'\nfor i in range(0,n+1):\n    svg+=dot(i,0,i)         # x dots\nsvg+=\"    </g>\\n\"\n\nsvg+=f'    <g transform=\"translate(0,{1+dw})\">\\n'\nfor i in range(0,n+1):\n    svg+=write(i,0,num(i))  # x nums\nsvg+=\"    </g>\\n\"\n\nsvg+=f'    <g transform=\"translate(-{2+dw},0)\">\\n'\nfor i in range(0,n+1):\n    svg+=dot(0,i,i)         # y dots\nsvg+=\"    </g>\\n\"\n\nsvg+=f'    <g transform=\"translate(-{1+dw},0)\">\\n'\nfor i in range(0,n+1):\n    svg+=write(0,i,num(i))  # y nums\nsvg+=\"    </g>\\n\"\n\nsvg+='    <g>\\n'\nfor i in range(0,n+1):\n    for j in range(0,n+1):\n        svg+=dot(i,j,i*j)   # xy dots\nsvg+='    </g>\\n'\n\nsvg+=f'    <g transform=\"translate({n+1+mw},-{n+1+mw})\">\\n'\nfor i in range(0,n+1):\n    for j in range(0,n+1):\n        svg+=write(i,j,num(i*j))    # xy nums\nsvg+='    </g>\\n'\nsvg+=\"  </g>\\n\"\nsvg+='\\n</svg>'\noutput(\"bottom\",svg)",
      "metadata": {
        "trusted": true,
        "tags": [],
        "editable": true,
        "slideshow": {
          "slide_type": ""
        }
      },
      "outputs": [
        {
          "output_type": "display_data",
          "data": {
            "text/plain": "<IPython.core.display.HTML object>",
            "text/html": "<html><body><svg xmlns=\"http://www.w3.org/2000/svg\" preserveAspectRatio=\"xMidYMid\" width=\"380\" height=\"380\" viewBox=\"0 0 19 19\" overflow=\"visible\">\n<g transform=\"matrix(1,0,0,-1,0,19)\">\n  <rect x=\"10\" y=\"10\" width=\"1\" height=\"1\" fill=\"none\" stroke=\"black\" stroke-width=\"0.05\"/>\n  <path stroke=\"red\" stroke-width=\"0.1\" fill=\"none\" d=\"M5,5 v-4 h13 v17 h-17 v-13 z\"/>\n</g>\n  <g text-anchor=\"middle\" alignment-baseline=\"middle\" font-family=\"Courier\" font-size=\"0.7\" letter-spacing=\"-0.1\" transform=\"translate(5.45,13.7)\"><!-- y=vBsize-myY -->\n    <g transform=\"translate(0,3)\"><!-- this and following groups of text have y turned into -y -->\n      <text x=\"1\" y=\"-0\">➕</text>\n      <text x=\"2\" y=\"-0\">➕</text>\n      <text x=\"3\" y=\"-0\">➕</text>\n    </g>\n    <g transform=\"translate(0,2)\">\n      <text x=\"0\" y=\"-0\">0</text>\n      <text x=\"1\" y=\"-0\">1</text>\n      <text x=\"2\" y=\"-0\">2</text>\n      <text x=\"3\" y=\"-0\">3</text>\n    </g>\n    <g transform=\"translate(-3,0)\">\n      <text x=\"0\" y=\"-1\">➕</text>\n      <text x=\"0\" y=\"-2\">➕</text>\n      <text x=\"0\" y=\"-3\">➕</text>\n    </g>\n    <g transform=\"translate(-2,0)\">\n      <text x=\"0\" y=\"-0\">0</text>\n      <text x=\"0\" y=\"-1\">1</text>\n      <text x=\"0\" y=\"-2\">2</text>\n      <text x=\"0\" y=\"-3\">3</text>\n    </g>\n    <g>\n      <text x=\"1\" y=\"-1\">➕</text>\n      <text x=\"1\" y=\"-2\">➕</text>\n      <text x=\"1\" y=\"-3\">➕</text>\n      <text x=\"2\" y=\"-1\">➕</text>\n      <text x=\"2\" y=\"-2\">➕</text>\n      <text x=\"2\" y=\"-3\">➕</text>\n      <text x=\"3\" y=\"-1\">➕</text>\n      <text x=\"3\" y=\"-2\">➕</text>\n      <text x=\"3\" y=\"-3\">➕</text>\n    </g>\n    <g transform=\"translate(5,-5)\">\n      <text x=\"0\" y=\"-0\">0</text>\n      <text x=\"0\" y=\"-1\">0</text>\n      <text x=\"0\" y=\"-2\">0</text>\n      <text x=\"0\" y=\"-3\">0</text>\n      <text x=\"1\" y=\"-0\">0</text>\n      <text x=\"1\" y=\"-1\">1</text>\n      <text x=\"1\" y=\"-2\">2</text>\n      <text x=\"1\" y=\"-3\">3</text>\n      <text x=\"2\" y=\"-0\">0</text>\n      <text x=\"2\" y=\"-1\">2</text>\n      <text x=\"2\" y=\"-2\">4</text>\n      <text x=\"2\" y=\"-3\">6</text>\n      <text x=\"3\" y=\"-0\">0</text>\n      <text x=\"3\" y=\"-1\">3</text>\n      <text x=\"3\" y=\"-2\">6</text>\n      <text x=\"3\" y=\"-3\">9</text>\n    </g>\n  </g>\n\n</svg></body></html>"
          },
          "metadata": {}
        }
      ],
      "execution_count": 2
    },
    {
      "cell_type": "code",
      "source": "d_move = f'M{margin+bw},{margin+size-bw}' #C\n#      C= v-(n+1+n+mw) =K= h() =L= v-1 =P= h-1 =O= v-(n-1+1+dw+2+bw) =W= h(1+dw) =X= v(bw+2+dw+1+n) =M= h(1+n) =N= l(mw),(mw) =I= h(n+1) =J= v(n) =H= h-(1+n) =G= v1 =E= h(n+1) =F= vn =D= h-(1+n+mw+n+1+dw+2) =C\nd_draws=f'v-{n+1+n+mw}     h2      v-1     h-1     v-{n-1+1+dw+2+bw}     h{1+dw}     v{bw+2+dw+1+n}     h{1+n}     l{mw},{mw}     h{n+1}     v{n}     h-{1+n}     v1     h{n+1}     v{n} z'\nd_draws=re.sub(r\"\\s+\",\" \",d_draws)\nslider=f'  <path{cutStyle} d=\"{d_move+d_draws}\"/>\\n' \noutput(\"slider\",svgRoot+rootGopen+slider+'</g>\\n\\n</svg>')",
      "metadata": {
        "trusted": true,
        "tags": [],
        "editable": true,
        "slideshow": {
          "slide_type": ""
        }
      },
      "outputs": [
        {
          "output_type": "display_data",
          "data": {
            "text/plain": "<IPython.core.display.HTML object>",
            "text/html": "<html><body><svg xmlns=\"http://www.w3.org/2000/svg\" preserveAspectRatio=\"xMidYMid\" width=\"380\" height=\"380\" viewBox=\"0 0 19 19\" overflow=\"visible\">\n<g transform=\"matrix(1,0,0,-1,0,19)\">\n  <path stroke=\"red\" stroke-width=\"0.1\" fill=\"none\" d=\"M2,17v-8 h2 v-1 h-1 v-7 h2 v8 h4 l1,1 h4 v3 h-4 v1 h4 v3 z\"/>\n</g>\n\n</svg></body></html>"
          },
          "metadata": {}
        }
      ],
      "execution_count": 3
    },
    {
      "cell_type": "code",
      "source": "d_move=f'M{margin},{margin+size}' # A\n# border= # A= v-(bw+n+1+n+mw+n+1) =U= h(bw+1) =V- v1 -T= h-1 =S= v(n) =K- v(mw+n+1+n) -C- h(2+dw+1+n+mw+n+1) -D- v-(n) -F= v-1 =H- v-(n) -J= v-(n) =R= h-(1+n) =Q= l-(mw),-(mw) =QQ= v-(1+dw+2+bw) =Y= h(mw+n+1+n+bw) =Z= v(bw+2+dw+1+n+mw+n+1+n+bw) =B= h-(bw+n+1+n+mw+n+1+dw+2+bw) =A\nd_drawsNskips=f'     v-{bw+n+1+n+mw+n+1}     h{bw+1}   m0,1     h-1     v{n}   m0,{mw+n+1+n}    m{2+dw+1+n+mw+n+1},0  m0,-{n}    v-1    m0,-{n}    v-{n}    h-{1+n}     l-{mw},-{mw}      v-{mw+dw+2+bw}     h{mw+n+1+n+bw}     v{size}                       h-{size}'\nd_drawsNskips=re.sub(r\"\\s+\",\" \",d_drawsNskips)\nborderCutsNskips=f'  <path{cutStyle} d=\"{d_move+d_drawsNskips}\"/>\\n' \noutput(\"borderCutsNskips\",svgRoot+rootGopen+borderCutsNskips+'</g>\\n\\n</svg>')",
      "metadata": {
        "trusted": true,
        "tags": [],
        "editable": true,
        "slideshow": {
          "slide_type": ""
        }
      },
      "outputs": [
        {
          "output_type": "display_data",
          "data": {
            "text/plain": "<IPython.core.display.HTML object>",
            "text/html": "<html><body><svg xmlns=\"http://www.w3.org/2000/svg\" preserveAspectRatio=\"xMidYMid\" width=\"380\" height=\"380\" viewBox=\"0 0 19 19\" overflow=\"visible\">\n<g transform=\"matrix(1,0,0,-1,0,19)\">\n  <path stroke=\"red\" stroke-width=\"0.1\" fill=\"none\" d=\"M1,18 v-13 h2 m0,1 h-1 v3 m0,8 m12,0 m0,-3 v-1 m0,-3 v-3 h-4 l-1,-1 v-5 h9 v17 h-17\"/>\n</g>\n\n</svg></body></html>"
          },
          "metadata": {}
        }
      ],
      "execution_count": 4
    },
    {
      "cell_type": "code",
      "source": "d_draws=d_drawsNskips.replace(\"m\",\"l\")\nborderCuts=f'  <path{cutStyle} d=\"{d_move+d_draws}\"/>\\n' \noutput(\"border\",svgRoot+rootGopen+borderCuts+'</g>\\n\\n</svg>')",
      "metadata": {
        "trusted": true,
        "tags": [],
        "editable": true,
        "slideshow": {
          "slide_type": ""
        }
      },
      "outputs": [
        {
          "output_type": "display_data",
          "data": {
            "text/plain": "<IPython.core.display.HTML object>",
            "text/html": "<html><body><svg xmlns=\"http://www.w3.org/2000/svg\" preserveAspectRatio=\"xMidYMid\" width=\"380\" height=\"380\" viewBox=\"0 0 19 19\" overflow=\"visible\">\n<g transform=\"matrix(1,0,0,-1,0,19)\">\n  <path stroke=\"red\" stroke-width=\"0.1\" fill=\"none\" d=\"M1,18 v-13 h2 l0,1 h-1 v3 l0,8 l12,0 l0,-3 v-1 l0,-3 v-3 h-4 l-1,-1 v-5 h9 v17 h-17\"/>\n</g>\n\n</svg></body></html>"
          },
          "metadata": {}
        }
      ],
      "execution_count": 5
    },
    {
      "cell_type": "code",
      "source": "svg=\"\"\"\n<svg xmlns=\"http://www.w3.org/2000/svg\" preserveAspectRatio=\"xMidYMid\" width=\"380\" height=\"380\" overflow=\"visible\" viewBox=\"0 0 380 380\">\n    <image href=\"slider_Ksom.svg\" width=\"380\"/>\n    <image href=\"borderCutsNskips_Ksom.svg\" width=\"380\"/>\n</svg>\"\"\"\noutput(\"sliderAndBorder\",svg)",
      "metadata": {
        "trusted": true
      },
      "outputs": [
        {
          "output_type": "display_data",
          "data": {
            "text/plain": "<IPython.core.display.HTML object>",
            "text/html": "<html><body>\n<svg xmlns=\"http://www.w3.org/2000/svg\" preserveAspectRatio=\"xMidYMid\" width=\"380\" height=\"380\" overflow=\"visible\" viewBox=\"0 0 380 380\">\n    <image href=\"slider_Ksom.svg\" width=\"380\"/>\n    <image href=\"borderCutsNskips_Ksom.svg\" width=\"380\"/>\n</svg></body></html>"
          },
          "metadata": {}
        }
      ],
      "execution_count": 6
    },
    {
      "cell_type": "code",
      "source": "#'closing' lid\nsvg =svgRoot+rootGopen\nN=margin+bw+2+dw+1+n #N                 KK                  A           B           Z                 Y                  N\noutside_d=f'M{N},{N}     h-{N-margin}       v{mw+n+1+n+bw}     h{size}    v-{size}    h-{bw+n+1+n+mw}    v{bw+2+dw+1+n}'\noutside_d=re.sub(r'\\s+',\" \",outside_d)\nsvg+=f'  <path{cutStyle} d=\"{outside_d}\"/>\\n'\n#                         I                          E F J I\ninside_d=f'M{margin+bw+2+dw+1+n+mw},{margin+bw+2+dw+1+n+mw}   v{n+1} h{n+1} v-{n+1} h-{n+1}'\ninside_d=re.sub(r'\\s+',\" \",inside_d)\nsvg+=f'  <path{cutStyle} d=\"{inside_d}\"/>\\n'\nsvg+=\"</g>\"\n\nsvg+=f'  <g{textStyle} transform=\"translate({0.5+dx},{vBsize-(0.5+dy)})\"><!-- y=vBsize-myY -->\\n'\ncenter=margin+size-(mw+n+1+n+bw+dw)/2\nsvg+=write(center,margin+size-(n+bw)/2+0.5,\"KEERSOMMEN met gevoel\")\nsvg+=write(center,margin+size-(n+bw)/2-1,\"Roos &amp; Ruud\")\nsvg+=f'<image x=\"{margin}\" y=\"-{size}\" width=\"{n+1+dw+2+mw}\" height=\"{n+1+dw+2+mw}\" href=\"https://upload.wikimedia.org/wikipedia/commons/d/d3/Black_and_White_Cat_Sketch.svg\" />\\n'\nlevel=margin+(mw+bw+dw+3+n)/2\nsvg+=write(center,level+2.5,\"Getal én aantal,\")\nsvg+=write(center,level+1.5,\"zichtbaar in som.\")\nsvg+=write(center,level,\"Ontwerp variant\")\nsvg+=write(center,level-1,\"via edu.nl/...\")\nsvg+=write(center,level-2.5,\" Voor ❀ met ♡\")\nsvg+='</g>\\n\\n</svg>'\noutput(\"lid\",svg) # You might need a mask here, or some fill rule, just try with a background",
      "metadata": {
        "trusted": true,
        "tags": [],
        "editable": true,
        "slideshow": {
          "slide_type": ""
        }
      },
      "outputs": [
        {
          "output_type": "display_data",
          "data": {
            "text/plain": "<IPython.core.display.HTML object>",
            "text/html": "<html><body><svg xmlns=\"http://www.w3.org/2000/svg\" preserveAspectRatio=\"xMidYMid\" width=\"380\" height=\"380\" viewBox=\"0 0 19 19\" overflow=\"visible\">\n<g transform=\"matrix(1,0,0,-1,0,19)\">\n  <path stroke=\"red\" stroke-width=\"0.1\" fill=\"none\" d=\"M9,9 h-8 v9 h17 v-17 h-9 v8\"/>\n  <path stroke=\"red\" stroke-width=\"0.1\" fill=\"none\" d=\"M10,10 v4 h4 v-4 h-4\"/>\n</g>  <g text-anchor=\"middle\" alignment-baseline=\"middle\" font-family=\"Courier\" font-size=\"0.7\" letter-spacing=\"-0.1\" transform=\"translate(0.45,18.7)\"><!-- y=vBsize-myY -->\n      <text x=\"13.0\" y=\"-16.5\">KEERSOMMEN met gevoel</text>\n      <text x=\"13.0\" y=\"-15.0\">Roos &amp; Ruud</text>\n<image x=\"1\" y=\"-17\" width=\"8\" height=\"8\" href=\"https://upload.wikimedia.org/wikipedia/commons/d/d3/Black_and_White_Cat_Sketch.svg\" />\n      <text x=\"13.0\" y=\"-8.0\">Getal én aantal,</text>\n      <text x=\"13.0\" y=\"-7.0\">zichtbaar in som.</text>\n      <text x=\"13.0\" y=\"-5.5\">Ontwerp variant</text>\n      <text x=\"13.0\" y=\"-4.5\">via edu.nl/...</text>\n      <text x=\"13.0\" y=\"-3.0\"> Voor ❀ met ♡</text>\n</g>\n\n</svg></body></html>"
          },
          "metadata": {}
        }
      ],
      "execution_count": 7
    },
    {
      "cell_type": "code",
      "source": "# stack 'm. #todo: parametrize # for moving \nsvg=\"\"\"\n<svg onkeydown=\"slide(evt)\" xmlns=\"http://www.w3.org/2000/svg\" preserveAspectRatio=\"xMidYMid\" width=\"380\" height=\"380\" overflow=\"visible\" viewBox=\"0 0 380 380\">\n  <script>\n    function slide(evt) {\n        evt.preventDefault();\n        // 37,38,39,40\n        document.getElementById(\"slide_down\").setAttribute(\"transform\",\"translate(0,120)\");\n    }\n  </script>\n\n    <image href=\"bottom_Ksom.svg\" width=\"380\"/>\n\n    <g id=\"slide_down\" transform=\"translate(0,2)\"><image href=\"slider_Ksom.svg\" width=\"380\"/></g>\n    <image href=\"border_Ksom.svg\" width=\"380\"/>\n\n    <g transform=\"matrix(0,-1,-1,0,380,380)\">          <!-- I need to move part of this left -->\n        <g id=\"slide_right\" transform=\"translate(0,2)\"><image href=\"slider_Ksom.svg\" width=\"380\"/></g>\n        <image href=\"border_Ksom.svg\" width=\"380\"/>\n    </g>\n    \n    <image href=\"lid_Ksom.svg\" width=\"380\"/>\n</svg>\"\"\"\noutput(\"stacked\",svg)",
      "metadata": {
        "trusted": true
      },
      "outputs": [
        {
          "output_type": "display_data",
          "data": {
            "text/plain": "<IPython.core.display.HTML object>",
            "text/html": "<html><body>\n<svg onkeydown=\"slide(evt)\" xmlns=\"http://www.w3.org/2000/svg\" preserveAspectRatio=\"xMidYMid\" width=\"380\" height=\"380\" overflow=\"visible\" viewBox=\"0 0 380 380\">\n  <script>\n    function slide(evt) {\n        evt.preventDefault();\n        // 37,38,39,40\n        document.getElementById(\"slide_down\").setAttribute(\"transform\",\"translate(0,120)\");\n    }\n  </script>\n\n    <image href=\"bottom_Ksom.svg\" width=\"380\"/>\n\n    <g id=\"slide_down\" transform=\"translate(0,2)\"><image href=\"slider_Ksom.svg\" width=\"380\"/></g>\n    <image href=\"border_Ksom.svg\" width=\"380\"/>\n\n    <g transform=\"matrix(0,-1,-1,0,380,380)\">          <!-- I need to move part of this left -->\n        <g id=\"slide_right\" transform=\"translate(0,2)\"><image href=\"slider_Ksom.svg\" width=\"380\"/></g>\n        <image href=\"border_Ksom.svg\" width=\"380\"/>\n    </g>\n    \n    <image href=\"lid_Ksom.svg\" width=\"380\"/>\n</svg></body></html>"
          },
          "metadata": {}
        }
      ],
      "execution_count": 8
    },
    {
      "cell_type": "code",
      "source": "%pip install Spire.Pdf\nfrom spire.pdf.common import *\nfrom spire.pdf import *\n\ndoc = PdfDocument() # Create a PdfDocument object\ndoc.LoadFromSvg(\"bottom_Ksom.svg\")  # Load an SVG file\ndoc.SaveToFile(\"bottom_Ksom.pdf\", FileFormat.PDF)  # Save the SVG file to PDF format\ndoc.Close()  # Close the PdfDocument object",
      "metadata": {
        "trusted": true
      },
      "outputs": [
        {
          "ename": "<class 'ValueError'>",
          "evalue": "Can't find a pure Python 3 wheel for 'spire-pdf'.\nSee: https://pyodide.org/en/stable/usage/faq.html#why-can-t-micropip-find-a-pure-python-wheel-for-a-package\nYou can use `await micropip.install(..., keep_going=True)` to get a list of all packages with missing wheels.",
          "traceback": [
            "\u001b[0;31m---------------------------------------------------------------------------\u001b[0m",
            "\u001b[0;31mValueError\u001b[0m                                Traceback (most recent call last)",
            "Cell \u001b[0;32mIn[14], line 1\u001b[0m\n\u001b[0;32m----> 1\u001b[0m \u001b[38;5;28;01mawait\u001b[39;00m \u001b[38;5;28m__import__\u001b[39m(\u001b[38;5;124m\"\u001b[39m\u001b[38;5;124mpiplite\u001b[39m\u001b[38;5;124m\"\u001b[39m)\u001b[38;5;241m.\u001b[39minstall(\u001b[38;5;241m*\u001b[39m\u001b[38;5;241m*\u001b[39m{\u001b[38;5;124m'\u001b[39m\u001b[38;5;124mrequirements\u001b[39m\u001b[38;5;124m'\u001b[39m: [\u001b[38;5;124m'\u001b[39m\u001b[38;5;124mSpire.Pdf\u001b[39m\u001b[38;5;124m'\u001b[39m]})\n\u001b[1;32m      2\u001b[0m \u001b[38;5;28;01mfrom\u001b[39;00m \u001b[38;5;21;01mspire\u001b[39;00m\u001b[38;5;21;01m.\u001b[39;00m\u001b[38;5;21;01mpdf\u001b[39;00m\u001b[38;5;21;01m.\u001b[39;00m\u001b[38;5;21;01mcommon\u001b[39;00m \u001b[38;5;28;01mimport\u001b[39;00m \u001b[38;5;241m*\u001b[39m\n\u001b[1;32m      3\u001b[0m \u001b[38;5;28;01mfrom\u001b[39;00m \u001b[38;5;21;01mspire\u001b[39;00m\u001b[38;5;21;01m.\u001b[39;00m\u001b[38;5;21;01mpdf\u001b[39;00m \u001b[38;5;28;01mimport\u001b[39;00m \u001b[38;5;241m*\u001b[39m\n",
            "File \u001b[0;32m/lib/python3.12/site-packages/piplite/piplite.py:117\u001b[0m, in \u001b[0;36m_install\u001b[0;34m(requirements, keep_going, deps, credentials, pre, index_urls, verbose)\u001b[0m\n\u001b[1;32m    115\u001b[0m \u001b[38;5;250m\u001b[39m\u001b[38;5;124;03m\"\"\"Invoke micropip.install with a patch to get data from local indexes\"\"\"\u001b[39;00m\n\u001b[1;32m    116\u001b[0m \u001b[38;5;28;01mwith\u001b[39;00m patch(\u001b[38;5;124m\"\u001b[39m\u001b[38;5;124mmicropip.package_index.query_package\u001b[39m\u001b[38;5;124m\"\u001b[39m, _query_package):\n\u001b[0;32m--> 117\u001b[0m     \u001b[38;5;28;01mreturn\u001b[39;00m \u001b[38;5;28;01mawait\u001b[39;00m micropip\u001b[38;5;241m.\u001b[39minstall(\n\u001b[1;32m    118\u001b[0m         requirements\u001b[38;5;241m=\u001b[39mrequirements,\n\u001b[1;32m    119\u001b[0m         keep_going\u001b[38;5;241m=\u001b[39mkeep_going,\n\u001b[1;32m    120\u001b[0m         deps\u001b[38;5;241m=\u001b[39mdeps,\n\u001b[1;32m    121\u001b[0m         credentials\u001b[38;5;241m=\u001b[39mcredentials,\n\u001b[1;32m    122\u001b[0m         pre\u001b[38;5;241m=\u001b[39mpre,\n\u001b[1;32m    123\u001b[0m         index_urls\u001b[38;5;241m=\u001b[39mindex_urls,\n\u001b[1;32m    124\u001b[0m         verbose\u001b[38;5;241m=\u001b[39mverbose,\n\u001b[1;32m    125\u001b[0m     )\n",
            "File \u001b[0;32m/lib/python3.12/site-packages/micropip/_commands/install.py:142\u001b[0m, in \u001b[0;36minstall\u001b[0;34m(requirements, keep_going, deps, credentials, pre, index_urls, verbose)\u001b[0m\n\u001b[1;32m    130\u001b[0m     index_urls \u001b[38;5;241m=\u001b[39m package_index\u001b[38;5;241m.\u001b[39mINDEX_URLS[:]\n\u001b[1;32m    132\u001b[0m transaction \u001b[38;5;241m=\u001b[39m Transaction(\n\u001b[1;32m    133\u001b[0m     ctx\u001b[38;5;241m=\u001b[39mctx,\n\u001b[1;32m    134\u001b[0m     ctx_extras\u001b[38;5;241m=\u001b[39m[],\n\u001b[0;32m   (...)\u001b[0m\n\u001b[1;32m    140\u001b[0m     index_urls\u001b[38;5;241m=\u001b[39mindex_urls,\n\u001b[1;32m    141\u001b[0m )\n\u001b[0;32m--> 142\u001b[0m \u001b[38;5;28;01mawait\u001b[39;00m transaction\u001b[38;5;241m.\u001b[39mgather_requirements(requirements)\n\u001b[1;32m    144\u001b[0m \u001b[38;5;28;01mif\u001b[39;00m transaction\u001b[38;5;241m.\u001b[39mfailed:\n\u001b[1;32m    145\u001b[0m     failed_requirements \u001b[38;5;241m=\u001b[39m \u001b[38;5;124m\"\u001b[39m\u001b[38;5;124m, \u001b[39m\u001b[38;5;124m\"\u001b[39m\u001b[38;5;241m.\u001b[39mjoin([\u001b[38;5;124mf\u001b[39m\u001b[38;5;124m\"\u001b[39m\u001b[38;5;124m'\u001b[39m\u001b[38;5;132;01m{\u001b[39;00mreq\u001b[38;5;132;01m}\u001b[39;00m\u001b[38;5;124m'\u001b[39m\u001b[38;5;124m\"\u001b[39m \u001b[38;5;28;01mfor\u001b[39;00m req \u001b[38;5;129;01min\u001b[39;00m transaction\u001b[38;5;241m.\u001b[39mfailed])\n",
            "File \u001b[0;32m/lib/python3.12/site-packages/micropip/transaction.py:55\u001b[0m, in \u001b[0;36mTransaction.gather_requirements\u001b[0;34m(self, requirements)\u001b[0m\n\u001b[1;32m     52\u001b[0m \u001b[38;5;28;01mfor\u001b[39;00m requirement \u001b[38;5;129;01min\u001b[39;00m requirements:\n\u001b[1;32m     53\u001b[0m     requirement_promises\u001b[38;5;241m.\u001b[39mappend(\u001b[38;5;28mself\u001b[39m\u001b[38;5;241m.\u001b[39madd_requirement(requirement))\n\u001b[0;32m---> 55\u001b[0m \u001b[38;5;28;01mawait\u001b[39;00m asyncio\u001b[38;5;241m.\u001b[39mgather(\u001b[38;5;241m*\u001b[39mrequirement_promises)\n",
            "File \u001b[0;32m/lib/python3.12/site-packages/micropip/transaction.py:62\u001b[0m, in \u001b[0;36mTransaction.add_requirement\u001b[0;34m(self, req)\u001b[0m\n\u001b[1;32m     59\u001b[0m     \u001b[38;5;28;01mreturn\u001b[39;00m \u001b[38;5;28;01mawait\u001b[39;00m \u001b[38;5;28mself\u001b[39m\u001b[38;5;241m.\u001b[39madd_requirement_inner(req)\n\u001b[1;32m     61\u001b[0m \u001b[38;5;28;01mif\u001b[39;00m \u001b[38;5;129;01mnot\u001b[39;00m urlparse(req)\u001b[38;5;241m.\u001b[39mpath\u001b[38;5;241m.\u001b[39mendswith(\u001b[38;5;124m\"\u001b[39m\u001b[38;5;124m.whl\u001b[39m\u001b[38;5;124m\"\u001b[39m):\n\u001b[0;32m---> 62\u001b[0m     \u001b[38;5;28;01mreturn\u001b[39;00m \u001b[38;5;28;01mawait\u001b[39;00m \u001b[38;5;28mself\u001b[39m\u001b[38;5;241m.\u001b[39madd_requirement_inner(Requirement(req))\n\u001b[1;32m     64\u001b[0m \u001b[38;5;66;03m# custom download location\u001b[39;00m\n\u001b[1;32m     65\u001b[0m wheel \u001b[38;5;241m=\u001b[39m WheelInfo\u001b[38;5;241m.\u001b[39mfrom_url(req)\n",
            "File \u001b[0;32m/lib/python3.12/site-packages/micropip/transaction.py:151\u001b[0m, in \u001b[0;36mTransaction.add_requirement_inner\u001b[0;34m(self, req)\u001b[0m\n\u001b[1;32m    148\u001b[0m     \u001b[38;5;28;01mif\u001b[39;00m \u001b[38;5;28mself\u001b[39m\u001b[38;5;241m.\u001b[39m_add_requirement_from_pyodide_lock(req):\n\u001b[1;32m    149\u001b[0m         \u001b[38;5;28;01mreturn\u001b[39;00m\n\u001b[0;32m--> 151\u001b[0m     \u001b[38;5;28;01mawait\u001b[39;00m \u001b[38;5;28mself\u001b[39m\u001b[38;5;241m.\u001b[39m_add_requirement_from_package_index(req)\n\u001b[1;32m    152\u001b[0m \u001b[38;5;28;01melse\u001b[39;00m:\n\u001b[1;32m    153\u001b[0m     \u001b[38;5;28;01mtry\u001b[39;00m:\n",
            "File \u001b[0;32m/lib/python3.12/site-packages/micropip/transaction.py:190\u001b[0m, in \u001b[0;36mTransaction._add_requirement_from_package_index\u001b[0;34m(self, req)\u001b[0m\n\u001b[1;32m    182\u001b[0m \u001b[38;5;250m\u001b[39m\u001b[38;5;124;03m\"\"\"\u001b[39;00m\n\u001b[1;32m    183\u001b[0m \u001b[38;5;124;03mFind requirement from package index. If the requirement is found,\u001b[39;00m\n\u001b[1;32m    184\u001b[0m \u001b[38;5;124;03madd it to the package list and return True. Otherwise, return False.\u001b[39;00m\n\u001b[1;32m    185\u001b[0m \u001b[38;5;124;03m\"\"\"\u001b[39;00m\n\u001b[1;32m    186\u001b[0m metadata \u001b[38;5;241m=\u001b[39m \u001b[38;5;28;01mawait\u001b[39;00m package_index\u001b[38;5;241m.\u001b[39mquery_package(\n\u001b[1;32m    187\u001b[0m     req\u001b[38;5;241m.\u001b[39mname, \u001b[38;5;28mself\u001b[39m\u001b[38;5;241m.\u001b[39mfetch_kwargs, index_urls\u001b[38;5;241m=\u001b[39m\u001b[38;5;28mself\u001b[39m\u001b[38;5;241m.\u001b[39mindex_urls\n\u001b[1;32m    188\u001b[0m )\n\u001b[0;32m--> 190\u001b[0m wheel \u001b[38;5;241m=\u001b[39m \u001b[43mfind_wheel\u001b[49m\u001b[43m(\u001b[49m\u001b[43mmetadata\u001b[49m\u001b[43m,\u001b[49m\u001b[43m \u001b[49m\u001b[43mreq\u001b[49m\u001b[43m)\u001b[49m\n\u001b[1;32m    192\u001b[0m \u001b[38;5;66;03m# Maybe while we were downloading pypi_json some other branch\u001b[39;00m\n\u001b[1;32m    193\u001b[0m \u001b[38;5;66;03m# installed the wheel?\u001b[39;00m\n\u001b[1;32m    194\u001b[0m satisfied, ver \u001b[38;5;241m=\u001b[39m \u001b[38;5;28mself\u001b[39m\u001b[38;5;241m.\u001b[39mcheck_version_satisfied(req)\n",
            "File \u001b[0;32m/lib/python3.12/site-packages/micropip/transaction.py:281\u001b[0m, in \u001b[0;36mfind_wheel\u001b[0;34m(metadata, req)\u001b[0m\n\u001b[1;32m    278\u001b[0m     \u001b[38;5;28;01mif\u001b[39;00m best_wheel \u001b[38;5;129;01mis\u001b[39;00m \u001b[38;5;129;01mnot\u001b[39;00m \u001b[38;5;28;01mNone\u001b[39;00m:\n\u001b[1;32m    279\u001b[0m         \u001b[38;5;28;01mreturn\u001b[39;00m wheel\n\u001b[0;32m--> 281\u001b[0m \u001b[38;5;28;01mraise\u001b[39;00m \u001b[38;5;167;01mValueError\u001b[39;00m(\n\u001b[1;32m    282\u001b[0m     \u001b[38;5;124mf\u001b[39m\u001b[38;5;124m\"\u001b[39m\u001b[38;5;124mCan\u001b[39m\u001b[38;5;124m'\u001b[39m\u001b[38;5;124mt find a pure Python 3 wheel for \u001b[39m\u001b[38;5;124m'\u001b[39m\u001b[38;5;132;01m{\u001b[39;00mreq\u001b[38;5;132;01m}\u001b[39;00m\u001b[38;5;124m'\u001b[39m\u001b[38;5;124m.\u001b[39m\u001b[38;5;130;01m\\n\u001b[39;00m\u001b[38;5;124m\"\u001b[39m\n\u001b[1;32m    283\u001b[0m     \u001b[38;5;124mf\u001b[39m\u001b[38;5;124m\"\u001b[39m\u001b[38;5;124mSee: \u001b[39m\u001b[38;5;132;01m{\u001b[39;00mFAQ_URLS[\u001b[38;5;124m'\u001b[39m\u001b[38;5;124mcant_find_wheel\u001b[39m\u001b[38;5;124m'\u001b[39m]\u001b[38;5;132;01m}\u001b[39;00m\u001b[38;5;130;01m\\n\u001b[39;00m\u001b[38;5;124m\"\u001b[39m\n\u001b[1;32m    284\u001b[0m     \u001b[38;5;124m\"\u001b[39m\u001b[38;5;124mYou can use `await micropip.install(..., keep_going=True)` \u001b[39m\u001b[38;5;124m\"\u001b[39m\n\u001b[1;32m    285\u001b[0m     \u001b[38;5;124m\"\u001b[39m\u001b[38;5;124mto get a list of all packages with missing wheels.\u001b[39m\u001b[38;5;124m\"\u001b[39m\n\u001b[1;32m    286\u001b[0m )\n",
            "\u001b[0;31mValueError\u001b[0m: Can't find a pure Python 3 wheel for 'spire-pdf'.\nSee: https://pyodide.org/en/stable/usage/faq.html#why-can-t-micropip-find-a-pure-python-wheel-for-a-package\nYou can use `await micropip.install(..., keep_going=True)` to get a list of all packages with missing wheels."
          ],
          "output_type": "error"
        }
      ],
      "execution_count": 14
    },
    {
      "cell_type": "code",
      "source": "",
      "metadata": {
        "trusted": true
      },
      "outputs": [],
      "execution_count": null
    }
  ]
}
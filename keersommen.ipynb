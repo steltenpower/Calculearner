{
  "metadata": {
    "kernelspec": {
      "name": "python",
      "display_name": "Python (Pyodide)",
      "language": "python"
    },
    "language_info": {
      "codemirror_mode": {
        "name": "python",
        "version": 3
      },
      "file_extension": ".py",
      "mimetype": "text/x-python",
      "name": "python",
      "nbconvert_exporter": "python",
      "pygments_lexer": "ipython3",
      "version": "3.8"
    }
  },
  "nbformat_minor": 4,
  "nbformat": 4,
  "cells": [
    {
      "cell_type": "code",
      "source": "from IPython.display import HTML\n\n# This generates SVG files where red is meant to cut and black to print\n# Layering them z=0,1,2,3 and then outside borders glued together\n# Now you've created a multiplying 'machine'\n\n# For both x and y negative numbers could also be added,\n# like in https://raw.githubusercontent.com/steltenpower/ElementarySchoolGimmicks/master/IMG_20230328_233125596.jpg\n# The resulting xy numbers could easily be adjusted for that too,\n# but I haven't tried to see if there's also a way to make it work for the masking\n# of + and - icons depicting xy\n\n# Make a stack of the individual files to see how that would look\n# (includes masking) \n\n# Make the x- and y-shift interactive\n\nn=2\ngenerateFiles=True\n\nsvgWidth=400\nsvgHeight=400\n\ncs={} # Coordinate System\ncs[\"Dx\"]=0.5\ncs[\"dx\"]=-0.05\ncs[\"Dy\"]=cs[\"Dx\"]\ncs[\"dy\"]=-0.2\n\ntextAnchor=\"middle\"# text-anchor: start | middle | end\nalignmentBaseline=\"middle\" # alignment-baseline:\n# auto | baseline | before-edge | text-before-edge | middle | central | \n# after-edge | text-after-edge | ideographic | alphabetic | \n# hanging | mathematical | top | center | bottom\nfontFamily=\"Courier\" #font-family \nfontSize=\"0.7\" #font-size\nletterSpacing=\"-0.1\" # letter-spacing\n\ntextAlign=f' text-anchor=\"{textAnchor}\" alignment-baseline=\"{alignmentBaseline}\"'\nfont=f' font-family=\"{fontFamily}\" font-size=\"{fontSize}\" letter-spacing=\"{letterSpacing}\"'\ntextStyle=textAlign+font\ncutStyle=' stroke=\"red\" stroke-width=\"0.1\" fill=\"none\"'\n\nsvgDocType ='<?xml version=\"1.0\" standalone=\"no\"?>\\n'\nsvgDocType+='<!DOCTYPE svg PUBLIC \"-//W3C//DTD SVG 1.1//EN\" \"http://www.w3.org/Graphics/SVG/1.1/DTD/svg11.dtd\">\\n'\n\nn1=n+1\n\ncs[\"margin\"]=1 # on top, left, right and bottom\ncs[\"bottomLeft_my\"]=-(cs[\"margin\"]+(4+n1))\ncs[\"screen_bottom_myY\"]=cs[\"bottomLeft_my\"]\ncs[\"screen_left_myX\"]=cs[\"bottomLeft_my\"]\ncs[\"topRight_my\"]=2*n1+cs[\"margin\"]\ncs[\"screen_top_myY\"]=cs[\"topRight_my\"]\ncs[\"screen_right_myX\"]=cs[\"topRight_my\"]\n\ncs[\"vBwidth\"]=cs[\"screen_right_myX\"]-cs[\"screen_left_myX\"]\ncs[\"vBheight\"]=cs[\"vBwidth\"]\ncs[\"vBxMin\"]=cs[\"screen_left_myX\"]\n\n# with myY_origin and svgY_origin matching:\n# screen_bottom_myY,0,screen_top_myY (upwards) gives -screen_top_myY,0,-screen_bottom_myY (downwards)\ncs[\"vByMin\"]=-cs[\"screen_top_myY\"]\ndef num(i):\n    return str(i)   #x numbers  # i = int(s, 16) # hex, binary, octal\ndef write(x,y,char):\n    return f'  <text x=\"{x}\" y=\"{-y}\">{char}</text>\\n'\ndef dot(x,y,ij):\n    if (ij>0):\n        result=write(x,y,\"➕\") # 💩⊕\n    elif (ij<0):\n        result=write(x,y,\"➖\") # ⊖\n    else:\n        result=\"\"\n    return result\n\nsvgRoot ='<svg xmlns=\"http://www.w3.org/2000/svg\" preserveAspectRatio=\"xMidYMid\"'\nsvgRoot+=f' width=\"{svgWidth}\" height=\"{svgHeight}\"'\nsvgRoot+=f' viewBox=\"{cs[\"vBxMin\"]} {cs[\"vByMin\"]} {cs[\"vBwidth\"]} {cs[\"vBheight\"]}\">\\n\\n'\n\nupsideDown ='<g transform=\"scale(1,-1)\">\\n'\nvisualReference ='  <rect width=\"1\" height=\"1\" fill=\"none\" stroke=\"black\" stroke-width=\"0.05\"/>\\n'\nupsideDown+=visualReference\n\ndef output(id,svg):\n    if generateFiles:\n        filename='z'+str(id)+'keersommen.svg'\n        file_object = open(filename,'w')\n        fileContent=svgDocType+svg\n        file_object.write(fileContent)\n        file_object.close()\n        #print(fileContent+'\\n')\n        \nprint(\"configuration complete\")",
      "metadata": {
        "trusted": true,
        "scrolled": true
      },
      "outputs": [
        {
          "name": "stdout",
          "text": "configuration complete\n",
          "output_type": "stream"
        }
      ],
      "execution_count": 45
    },
    {
      "cell_type": "code",
      "source": "svg =svgRoot\nsvg+=upsideDown\nsvg+=f'  <path{cutStyle} d=\"M-{n1},-{n1+4} h{3*n1} v{3*n1+4} h-{3*n1+4} v-{3*n1} h4 v-4\"/>\\n'\nsvg+='</g>\\n\\n\\n'\nsvg+=f'<g transform=\"translate({cs[\"Dx\"]+cs[\"dx\"]},{-(cs[\"Dy\"]+cs[\"dy\"])})\"{textStyle}>\\n'\nfor i in range(0,n1):\n    svg+=dot(-n1+i,-n1-3,i)         #x dots\n    svg+=dot(-n1-3,-n1+i,i)         #y dots\n    svg+=write(-n1+i,-n1-2,num(i))\n    svg+=write(-n1-2,-n1+i,num(i))\n    svg+=\"\\n\"\n    for j in range(0,n1):\n        svg+=dot(-n1+i,-n1+j,i*j)   #xy dots\n        svg+=write(i,j,num(i*j))\nsvg+='</g>\\n\\n'\nsvg+=\"\\n</svg>\"\noutput(0,svg)\nHTML(f'<html><body>{svg}</body></html>')",
      "metadata": {
        "trusted": true
      },
      "outputs": [
        {
          "execution_count": 38,
          "output_type": "execute_result",
          "data": {
            "text/plain": "<IPython.core.display.HTML object>",
            "text/html": "<html><body><svg xmlns=\"http://www.w3.org/2000/svg\" preserveAspectRatio=\"xMidYMid\" width=\"400\" height=\"400\" viewBox=\"-8 -7 15 15\">\n\n<g transform=\"scale(1,-1)\">\n  <rect width=\"1\" height=\"1\" fill=\"none\" stroke=\"black\" stroke-width=\"0.05\"/>\n  <path stroke=\"red\" stroke-width=\"0.1\" fill=\"none\" d=\"M-3,-7 h9 v13 h-13 v-9 h4 v-4\"/>\n</g>\n\n\n<g transform=\"translate(0.45,-0.3)\" text-anchor=\"middle\" alignment-baseline=\"middle\" font-family=\"Courier\" font-size=\"0.7\" letter-spacing=\"-0.1\">\n  <text x=\"-3\" y=\"5\">0</text>\n  <text x=\"-5\" y=\"3\">0</text>\n\n  <text x=\"0\" y=\"0\">0</text>\n  <text x=\"0\" y=\"-1\">0</text>\n  <text x=\"0\" y=\"-2\">0</text>\n  <text x=\"-2\" y=\"6\">➕</text>\n  <text x=\"-6\" y=\"2\">➕</text>\n  <text x=\"-2\" y=\"5\">1</text>\n  <text x=\"-5\" y=\"2\">1</text>\n\n  <text x=\"1\" y=\"0\">0</text>\n  <text x=\"-2\" y=\"2\">➕</text>\n  <text x=\"1\" y=\"-1\">1</text>\n  <text x=\"-2\" y=\"1\">➕</text>\n  <text x=\"1\" y=\"-2\">2</text>\n  <text x=\"-1\" y=\"6\">➕</text>\n  <text x=\"-6\" y=\"1\">➕</text>\n  <text x=\"-1\" y=\"5\">2</text>\n  <text x=\"-5\" y=\"1\">2</text>\n\n  <text x=\"2\" y=\"0\">0</text>\n  <text x=\"-1\" y=\"2\">➕</text>\n  <text x=\"2\" y=\"-1\">2</text>\n  <text x=\"-1\" y=\"1\">➕</text>\n  <text x=\"2\" y=\"-2\">4</text>\n</g>\n\n\n</svg></body></html>"
          },
          "metadata": {}
        }
      ],
      "execution_count": 38
    },
    {
      "cell_type": "code",
      "source": "svg=svgRoot\nsvg+=upsideDown\nsvg+='  <g transform=\"matrix(0,1,1,0,0,0)\">\\n' # wissel x,y\n\n#slider\ncuts =f'    <path{cutStyle} d=\"M0,0 h{n1} v{n} h-{n1} v1 h{n1} m0,-1 v{n1} h-{2*n1+3}'\ncuts+=f' v-{n+n1} h2 v-1 h-1 v-{n+4} h1 v{4+n1-2} h1 v2 h{n1}\"/>\\n'\n#border\ncuts+=f'   <path{cutStyle} d=\"M0,0 h{n1} v-{n} h-{n1} v-5 h{2*n1} v{3*n1+4}'\ncuts+=f' h-{3*n1+4} v-{3*n1} h2 m0,1 h-1 v{n}\"/>\\n'\nsvg+=cuts\nsvg+=\"  </g>\\n\"\nsvg+=\"</g>\\n\"\noutput(1,svg+\"\\n</svg>\")\nHTML('<html><body>'+svg+'</body></html>')",
      "metadata": {
        "trusted": true
      },
      "outputs": [
        {
          "execution_count": 39,
          "output_type": "execute_result",
          "data": {
            "text/plain": "<IPython.core.display.HTML object>",
            "text/html": "<html><body><svg xmlns=\"http://www.w3.org/2000/svg\" preserveAspectRatio=\"xMidYMid\" width=\"400\" height=\"400\" viewBox=\"-8 -7 15 15\">\n\n<g transform=\"scale(1,-1)\">\n  <rect width=\"1\" height=\"1\" fill=\"none\" stroke=\"black\" stroke-width=\"0.05\"/>\n  <g transform=\"matrix(0,1,1,0,0,0)\">\n    <path stroke=\"red\" stroke-width=\"0.1\" fill=\"none\" d=\"M0,0 h3 v2 h-3 v1 h3 m0,-1 v3 h-9 v-5 h2 v-1 h-1 v-6 h1 v5 h1 v2 h3\"/>\n   <path stroke=\"red\" stroke-width=\"0.1\" fill=\"none\" d=\"M0,0 h3 v-2 h-3 v-5 h6 v13 h-13 v-9 h2 m0,1 h-1 v2\"/>\n  </g>\n</g>\n</body></html>"
          },
          "metadata": {}
        }
      ],
      "execution_count": 39
    },
    {
      "cell_type": "code",
      "source": "svg=svgRoot\nsvg+=upsideDown\nsvg+=cuts\nsvg+=\"</g>\\n\"\n\nsvg+='\\n</svg>'\noutput(2,svg)\nHTML('<html><body>'+svg+'</body></html>')",
      "metadata": {
        "trusted": true
      },
      "outputs": [
        {
          "execution_count": 40,
          "output_type": "execute_result",
          "data": {
            "text/plain": "<IPython.core.display.HTML object>",
            "text/html": "<html><body><svg xmlns=\"http://www.w3.org/2000/svg\" preserveAspectRatio=\"xMidYMid\" width=\"400\" height=\"400\" viewBox=\"-8 -7 15 15\">\n\n<g transform=\"scale(1,-1)\">\n  <rect width=\"1\" height=\"1\" fill=\"none\" stroke=\"black\" stroke-width=\"0.05\"/>\n    <path stroke=\"red\" stroke-width=\"0.1\" fill=\"none\" d=\"M0,0 h3 v2 h-3 v1 h3 m0,-1 v3 h-9 v-5 h2 v-1 h-1 v-6 h1 v5 h1 v2 h3\"/>\n   <path stroke=\"red\" stroke-width=\"0.1\" fill=\"none\" d=\"M0,0 h3 v-2 h-3 v-5 h6 v13 h-13 v-9 h2 m0,1 h-1 v2\"/>\n</g>\n\n</svg></body></html>"
          },
          "metadata": {}
        }
      ],
      "execution_count": 40
    },
    {
      "cell_type": "code",
      "source": "svg =svgRoot\nsvg+=upsideDown\nsvg+=f'  <path{cutStyle} d=\"M0,0 v-{n1+4} h{2*n1} v{3*n1+4} h-{3*n1+4} v-{2*n1} h{n1+4} h{n1} v{n1} h-{n1} v-{n1}  \"/>\\n'\nsvg+=\"</g>\\n\"\nsvg+=f'<g transform=\"translate({cs[\"Dx\"]+cs[\"dx\"]},{-(cs[\"Dy\"]+cs[\"dy\"])})\"{textStyle}>\\n'\nsvg+=write(-1.5,n+n1,\"KEERSOMMEN met gevoel, Roos &amp; Ruud\")\n# https://upload.wikimedia.org/wikipedia/commons/d/d3/Black_and_White_Cat_Sketch.svg\nsvg+=write(n1-0.5,-n1,\"Getal én aantal,\")\nsvg+=write(n1-0.5,-n1-1,\"zichtbaar in som.\")\nsvg+=write(n1-0.5,-n1-2,\"Ontwerp variant\")\nsvg+=write(n1-0.5,-n1-3,\"via edu.nl/...\")\nsvg+=write(n1-0.5,-n1-4,\"Voor ❀ met ♡\")\nsvg+='</g>\\n'\nsvg+='\\n</svg>'\noutput(3,svg)\nHTML('<html><body>'+svg+'</body></html>')",
      "metadata": {
        "trusted": true
      },
      "outputs": [
        {
          "execution_count": 44,
          "output_type": "execute_result",
          "data": {
            "text/plain": "<IPython.core.display.HTML object>",
            "text/html": "<html><body><svg xmlns=\"http://www.w3.org/2000/svg\" preserveAspectRatio=\"xMidYMid\" width=\"400\" height=\"400\" viewBox=\"-8 -7 15 15\">\n\n<g transform=\"scale(1,-1)\">\n  <rect width=\"1\" height=\"1\" fill=\"none\" stroke=\"black\" stroke-width=\"0.05\"/>\n  <path stroke=\"red\" stroke-width=\"0.1\" fill=\"none\" d=\"M0,0 v-7 h6 v13 h-13 v-6 h7 h3 v3 h-3 v-3  \"/>\n</g>\n<g transform=\"translate(0.45,-0.3)\" text-anchor=\"middle\" alignment-baseline=\"middle\" font-family=\"Courier\" font-size=\"0.7\" letter-spacing=\"-0.1\">\n  <text x=\"-1.5\" y=\"-5\">KEERSOMMEN met gevoel, Roos &amp; Ruud</text>\n  <text x=\"2.5\" y=\"3\">Getal én aantal,</text>\n  <text x=\"2.5\" y=\"4\">zichtbaar in som.</text>\n  <text x=\"2.5\" y=\"5\">Ontwerp variant</text>\n  <text x=\"2.5\" y=\"6\">via edu.nl/...</text>\n  <text x=\"2.5\" y=\"7\">Voor ❀ met ♡</text>\n</g>\n\n</svg></body></html>"
          },
          "metadata": {}
        }
      ],
      "execution_count": 44
    },
    {
      "cell_type": "code",
      "source": "",
      "metadata": {
        "trusted": true
      },
      "outputs": [],
      "execution_count": null
    }
  ]
}